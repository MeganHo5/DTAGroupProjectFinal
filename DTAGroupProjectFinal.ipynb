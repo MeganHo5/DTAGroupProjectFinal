{
 "cells": [
  {
   "cell_type": "code",
   "execution_count": 3,
   "id": "d1efd86e-9e87-4638-84f2-51781f7e6eda",
   "metadata": {},
   "outputs": [],
   "source": [
    "# Import necessary libraries\n",
    "import pandas as pd\n",
    "import numpy as np\n",
    "import matplotlib.pyplot as plt  \n",
    "import seaborn as sns\n",
    "from sklearn.model_selection import train_test_split\n",
    "from sklearn.tree import DecisionTreeClassifier\n",
    "from sklearn.ensemble import RandomForestClassifier\n",
    "from sklearn.metrics import accuracy_score, classification_report\n",
    "from sklearn.preprocessing import StandardScaler\n",
    "from sklearn.linear_model import LogisticRegression\n",
    "from sklearn.preprocessing import StandardScaler\n",
    "import plotly.express as px"
   ]
  },
  {
   "cell_type": "code",
   "execution_count": 17,
   "id": "ec42e354-8ade-485f-b964-57deefea6042",
   "metadata": {},
   "outputs": [],
   "source": [
    "GroupProject =pd.read_csv(r\"C:\\Users\\Megan\\Desktop\\StudentsPerformance.csv\")"
   ]
  },
  {
   "cell_type": "code",
   "execution_count": 36,
   "id": "1000db56-ff3d-4a13-9352-62d65aaf4af6",
   "metadata": {},
   "outputs": [
    {
     "name": "stdout",
     "output_type": "stream",
     "text": [
      "<class 'pandas.core.frame.DataFrame'>\n",
      "RangeIndex: 1000 entries, 0 to 999\n",
      "Data columns (total 8 columns):\n",
      " #   Column                       Non-Null Count  Dtype \n",
      "---  ------                       --------------  ----- \n",
      " 0   gender                       1000 non-null   object\n",
      " 1   race/ethnicity               1000 non-null   object\n",
      " 2   parental level of education  1000 non-null   object\n",
      " 3   lunch                        1000 non-null   object\n",
      " 4   test preparation course      1000 non-null   object\n",
      " 5   math score                   1000 non-null   int64 \n",
      " 6   reading score                1000 non-null   int64 \n",
      " 7   writing score                1000 non-null   int64 \n",
      "dtypes: int64(3), object(5)\n",
      "memory usage: 62.6+ KB\n",
      "None\n",
      "       math score  reading score  writing score\n",
      "count  1000.00000    1000.000000    1000.000000\n",
      "mean     66.08900      69.169000      68.054000\n",
      "std      15.16308      14.600192      15.195657\n",
      "min       0.00000      17.000000      10.000000\n",
      "25%      57.00000      59.000000      57.750000\n",
      "50%      66.00000      70.000000      69.000000\n",
      "75%      77.00000      79.000000      79.000000\n",
      "max     100.00000     100.000000     100.000000\n"
     ]
    }
   ],
   "source": [
    "# Done By Megan Hoaes\n",
    "print(GroupProject.info())\n",
    "print(GroupProject.describe())"
   ]
  },
  {
   "cell_type": "code",
   "execution_count": 66,
   "id": "a7efb636-41c0-4547-99bc-e2ddc2170b99",
   "metadata": {},
   "outputs": [
    {
     "name": "stdout",
     "output_type": "stream",
     "text": [
      "gender                         0\n",
      "race/ethnicity                 0\n",
      "parental level of education    0\n",
      "lunch                          0\n",
      "test preparation course        0\n",
      "math score                     0\n",
      "reading score                  0\n",
      "writing score                  0\n",
      "dtype: int64\n"
     ]
    }
   ],
   "source": [
    "# Done By Martha Ndeshiyala\n",
    "print(GroupProject.isnull().sum())"
   ]
  },
  {
   "cell_type": "code",
   "execution_count": 68,
   "id": "2961766c-0f07-4ca3-b8a0-557d5dc7478e",
   "metadata": {},
   "outputs": [],
   "source": [
    "# Done By Peter Hailapa\n",
    "GroupProject = GroupProject.dropna() "
   ]
  },
  {
   "cell_type": "code",
   "execution_count": 70,
   "id": "01327379-c321-41ab-b7c5-4fcc1a79c322",
   "metadata": {},
   "outputs": [
    {
     "name": "stdout",
     "output_type": "stream",
     "text": [
      "0\n"
     ]
    }
   ],
   "source": [
    "# Done By Peter Hailapa\n",
    "print(GroupProject.duplicated().sum())"
   ]
  },
  {
   "cell_type": "code",
   "execution_count": 72,
   "id": "3a56ce1a-fc0e-4fa1-967e-abe5d9702705",
   "metadata": {},
   "outputs": [
    {
     "data": {
      "text/plain": [
       "gender                         0\n",
       "race/ethnicity                 0\n",
       "parental level of education    0\n",
       "lunch                          0\n",
       "test preparation course        0\n",
       "math score                     0\n",
       "reading score                  0\n",
       "writing score                  0\n",
       "dtype: int64"
      ]
     },
     "execution_count": 72,
     "metadata": {},
     "output_type": "execute_result"
    }
   ],
   "source": [
    "# Done By Simeon Nafimane\n",
    "# Find NaN values in the dataset\n",
    "GroupProject.isna()\n",
    "\n",
    "# Count NaN values in each column\n",
    "GroupProject.isna().sum()"
   ]
  },
  {
   "cell_type": "code",
   "execution_count": 74,
   "id": "7858c131-05e3-4478-9551-60cd51df217c",
   "metadata": {},
   "outputs": [
    {
     "name": "stdout",
     "output_type": "stream",
     "text": [
      "Reindexed Integer Series:\n",
      "0    1.0\n",
      "1    2.0\n",
      "2    NaN\n",
      "dtype: float64\n",
      "\n",
      "Reindexed Boolean Series:\n",
      "0     True\n",
      "1    False\n",
      "2      NaN\n",
      "dtype: object\n"
     ]
    }
   ],
   "source": [
    "# Done By Wilhem Nghiyoonanye\n",
    "# Integer Series\n",
    "series1 = pd.Series([1, 2], dtype=np.int64)\n",
    "reindexed1 = series1.reindex([0, 1, 2])\n",
    "print(\"Reindexed Integer Series:\")\n",
    "print(reindexed1)\n",
    "print()\n",
    "\n",
    "# Boolean Series\n",
    "series2 = pd.Series([True, False], dtype=np.bool_)\n",
    "reindexed2 = series2.reindex([0, 1, 2])\n",
    "print(\"Reindexed Boolean Series:\")\n",
    "print(reindexed2)"
   ]
  },
  {
   "cell_type": "code",
   "execution_count": 76,
   "id": "7506ccdc-d95e-4777-b58e-fc8590414007",
   "metadata": {},
   "outputs": [
    {
     "data": {
      "image/png": "[encoded data removed]",
      "text/plain": [
       "<Figure size 800x600 with 1 Axes>"
      ]
     },
     "metadata": {},
     "output_type": "display_data"
    }
   ],
   "source": [
    "# Done By Mauritius Hamutenya\n",
    "# Pie chart for gender distribution\n",
    "plt.figure(figsize=(8, 6))\n",
    "GroupProject['gender'].value_counts().plot.pie(autopct='%1.1f%%')\n",
    "plt.title('Gender Distribution')\n",
    "plt.show()\n"
   ]
  },
  {
   "cell_type": "code",
   "execution_count": 64,
   "id": "56d50a2e-c12c-4e31-b3b4-c9314153f9bc",
   "metadata": {},
   "outputs": [
    {
     "data": {
      "image/png": "[encoded data removed]",
      "text/plain": [
       "<Figure size 1000x600 with 1 Axes>"
      ]
     },
     "metadata": {},
     "output_type": "display_data"
    }
   ],
   "source": [
    "# Done By Peneyambeko Mwaamange\n",
    "# Bar graph for race/ethnicity\n",
    "plt.figure(figsize=(10, 6))\n",
    "sns.countplot(x='race/ethnicity', data=GroupProject)\n",
    "plt.title('Distribution of Race/Ethnicity')\n",
    "plt.xticks(rotation=45)\n",
    "plt.show()"
   ]
  },
  {
   "cell_type": "code",
   "execution_count": 62,
   "id": "45fe990f-d426-41f3-8d50-ea2edc166963",
   "metadata": {},
   "outputs": [
    {
     "data": {
      "image/png": "[encoded data removed]",
      "text/plain": [
       "<Figure size 1200x600 with 1 Axes>"
      ]
     },
     "metadata": {},
     "output_type": "display_data"
    }
   ],
   "source": [
    "# Done By Emilia Ndevaama\n",
    "# Box plot for test scores\n",
    "plt.figure(figsize=(12, 6))\n",
    "sns.boxplot(data=GroupProject[['math score', 'reading score', 'writing score']])\n",
    "plt.title('Distribution of Test Scores')\n",
    "plt.show()"
   ]
  },
  {
   "cell_type": "code",
   "execution_count": 60,
   "id": "ceae354c-37c9-43aa-9005-33ea29a67527",
   "metadata": {},
   "outputs": [
    {
     "data": {
      "application/vnd.plotly.v1+json": {
       "config": {
        "plotlyServerURL": "https://plot.ly"
       },
       "data": [
        {
         "customdata": [
          [
           74,
           "group B"
          ],
          [
           88,
           "group C"
          ],
          [
           93,
           "group B"
          ],
          [
           78,
           "group B"
          ],
          [
           92,
           "group B"
          ],
          [
           50,
           "group B"
          ],
          [
           73,
           "group B"
          ],
          [
           58,
           "group A"
          ],
          [
           78,
           "group C"
          ],
          [
           28,
           "group B"
          ],
          [
           61,
           "group C"
          ],
          [
           70,
           "group B"
          ],
          [
           73,
           "group C"
          ],
          [
           75,
           "group C"
          ],
          [
           75,
           "group D"
          ],
          [
           74,
           "group D"
          ],
          [
           61,
           "group B"
          ],
          [
           65,
           "group E"
          ],
          [
           83,
           "group D"
          ],
          [
           59,
           "group D"
          ],
          [
           88,
           "group D"
          ],
          [
           68,
           "group C"
          ],
          [
           65,
           "group B"
          ],
          [
           54,
           "group E"
          ],
          [
           62,
           "group A"
          ],
          [
           76,
           "group C"
          ],
          [
           76,
           "group D"
          ],
          [
           87,
           "group C"
          ],
          [
           43,
           "group C"
          ],
          [
           86,
           "group E"
          ],
          [
           10,
           "group C"
          ],
          [
           71,
           "group C"
          ],
          [
           59,
           "group D"
          ],
          [
           74,
           "group C"
          ],
          [
           57,
           "group C"
          ],
          [
           73,
           "group D"
          ],
          [
           48,
           "group A"
          ],
          [
           72,
           "group D"
          ],
          [
           68,
           "group E"
          ],
          [
           50,
           "group B"
          ],
          [
           82,
           "group C"
          ],
          [
           88,
           "group C"
          ],
          [
           74,
           "group D"
          ],
          [
           67,
           "group A"
          ],
          [
           82,
           "group D"
          ],
          [
           74,
           "group C"
          ],
          [
           92,
           "group B"
          ],
          [
           70,
           "group E"
          ],
          [
           62,
           "group D"
          ],
          [
           62,
           "group D"
          ],
          [
           89,
           "group D"
          ],
          [
           72,
           "group C"
          ],
          [
           100,
           "group D"
          ],
          [
           70,
           "group B"
          ],
          [
           72,
           "group B"
          ],
          [
           98,
           "group D"
          ],
          [
           54,
           "group D"
          ],
          [
           100,
           "group E"
          ],
          [
           82,
           "group B"
          ],
          [
           79,
           "group D"
          ],
          [
           61,
           "group D"
          ],
          [
           65,
           "group C"
          ],
          [
           89,
           "group C"
          ],
          [
           93,
           "group C"
          ],
          [
           86,
           "group B"
          ],
          [
           51,
           "group A"
          ],
          [
           84,
           "group C"
          ],
          [
           67,
           "group C"
          ],
          [
           71,
           "group D"
          ],
          [
           64,
           "group C"
          ],
          [
           54,
           "group E"
          ],
          [
           33,
           "group C"
          ],
          [
           81,
           "group D"
          ],
          [
           66,
           "group B"
          ],
          [
           88,
           "group C"
          ],
          [
           78,
           "group E"
          ],
          [
           87,
           "group B"
          ],
          [
           85,
           "group E"
          ],
          [
           91,
           "group E"
          ],
          [
           100,
           "group C"
          ],
          [
           78,
           "group B"
          ],
          [
           78,
           "group B"
          ],
          [
           70,
           "group C"
          ],
          [
           81,
           "group D"
          ],
          [
           70,
           "group C"
          ],
          [
           54,
           "group C"
          ],
          [
           87,
           "group C"
          ],
          [
           58,
           "group B"
          ],
          [
           77,
           "group C"
          ],
          [
           62,
           "group B"
          ],
          [
           100,
           "group D"
          ],
          [
           66,
           "group C"
          ],
          [
           47,
           "group E"
          ],
          [
           70,
           "group D"
          ],
          [
           87,
           "group C"
          ],
          [
           69,
           "group E"
          ],
          [
           66,
           "group B"
          ],
          [
           85,
           "group C"
          ],
          [
           55,
           "group B"
          ],
          [
           76,
           "group B"
          ],
          [
           86,
           "group C"
          ],
          [
           77,
           "group D"
          ],
          [
           68,
           "group B"
          ],
          [
           76,
           "group B"
          ],
          [
           66,
           "group B"
          ],
          [
           60,
           "group C"
          ],
          [
           88,
           "group E"
          ],
          [
           39,
           "group C"
          ],
          [
           74,
           "group D"
          ],
          [
           62,
           "group C"
          ],
          [
           73,
           "group B"
          ],
          [
           54,
           "group E"
          ],
          [
           71,
           "group C"
          ],
          [
           94,
           "group C"
          ],
          [
           83,
           "group B"
          ],
          [
           74,
           "group D"
          ],
          [
           83,
           "group E"
          ],
          [
           55,
           "group D"
          ],
          [
           68,
           "group B"
          ],
          [
           62,
           "group B"
          ],
          [
           83,
           "group D"
          ],
          [
           70,
           "group B"
          ],
          [
           70,
           "group E"
          ],
          [
           68,
           "group C"
          ],
          [
           78,
           "group B"
          ],
          [
           81,
           "group C"
          ],
          [
           77,
           "group C"
          ],
          [
           51,
           "group C"
          ],
          [
           90,
           "group E"
          ],
          [
           81,
           "group C"
          ],
          [
           77,
           "group D"
          ],
          [
           95,
           "group D"
          ],
          [
           70,
           "group E"
          ],
          [
           58,
           "group D"
          ],
          [
           71,
           "group D"
          ],
          [
           93,
           "group C"
          ],
          [
           75,
           "group E"
          ],
          [
           80,
           "group C"
          ],
          [
           84,
           "group D"
          ],
          [
           78,
           "group D"
          ],
          [
           46,
           "group B"
          ],
          [
           82,
           "group B"
          ],
          [
           75,
           "group E"
          ],
          [
           81,
           "group C"
          ],
          [
           83,
           "group C"
          ],
          [
           67,
           "group B"
          ],
          [
           52,
           "group D"
          ],
          [
           80,
           "group B"
          ],
          [
           69,
           "group C"
          ],
          [
           75,
           "group C"
          ],
          [
           91,
           "group D"
          ],
          [
           63,
           "group D"
          ],
          [
           84,
           "group C"
          ],
          [
           79,
           "group E"
          ],
          [
           80,
           "group C"
          ],
          [
           53,
           "group C"
          ],
          [
           43,
           "group C"
          ],
          [
           94,
           "group C"
          ],
          [
           51,
           "group B"
          ],
          [
           95,
           "group C"
          ],
          [
           66,
           "group B"
          ],
          [
           27,
           "group B"
          ],
          [
           60,
           "group D"
          ],
          [
           63,
           "group C"
          ],
          [
           74,
           "group B"
          ],
          [
           75,
           "group C"
          ],
          [
           95,
           "group C"
          ],
          [
           69,
           "group B"
          ],
          [
           80,
           "group C"
          ],
          [
           57,
           "group C"
          ],
          [
           70,
           "group C"
          ],
          [
           70,
           "group B"
          ],
          [
           69,
           "group C"
          ],
          [
           89,
           "group D"
          ],
          [
           59,
           "group B"
          ],
          [
           58,
           "group C"
          ],
          [
           32,
           "group D"
          ],
          [
           58,
           "group A"
          ],
          [
           85,
           "group D"
          ],
          [
           70,
           "group C"
          ],
          [
           96,
           "group D"
          ],
          [
           73,
           "group D"
          ],
          [
           82,
           "group D"
          ],
          [
           100,
           "group D"
          ],
          [
           77,
           "group A"
          ],
          [
           83,
           "group B"
          ],
          [
           45,
           "group E"
          ],
          [
           43,
           "group A"
          ],
          [
           75,
           "group E"
          ],
          [
           70,
           "group E"
          ],
          [
           67,
           "group C"
          ],
          [
           64,
           "group D"
          ],
          [
           77,
           "group D"
          ],
          [
           77,
           "group C"
          ],
          [
           63,
           "group B"
          ],
          [
           95,
           "group C"
          ],
          [
           67,
           "group C"
          ],
          [
           55,
           "group A"
          ],
          [
           100,
           "group D"
          ],
          [
           62,
           "group C"
          ],
          [
           68,
           "group C"
          ],
          [
           77,
           "group B"
          ],
          [
           56,
           "group D"
          ],
          [
           74,
           "group D"
          ],
          [
           79,
           "group C"
          ],
          [
           93,
           "group C"
          ],
          [
           64,
           "group D"
          ],
          [
           67,
           "group D"
          ],
          [
           80,
           "group A"
          ],
          [
           62,
           "group C"
          ],
          [
           70,
           "group C"
          ],
          [
           50,
           "group A"
          ],
          [
           79,
           "group C"
          ],
          [
           80,
           "group D"
          ],
          [
           69,
           "group A"
          ],
          [
           76,
           "group B"
          ],
          [
           77,
           "group C"
          ],
          [
           85,
           "group C"
          ],
          [
           97,
           "group E"
          ],
          [
           74,
           "group C"
          ],
          [
           62,
           "group C"
          ],
          [
           89,
           "group D"
          ],
          [
           100,
           "group E"
          ],
          [
           76,
           "group E"
          ],
          [
           91,
           "group C"
          ],
          [
           91,
           "group C"
          ],
          [
           38,
           "group D"
          ],
          [
           85,
           "group A"
          ],
          [
           90,
           "group C"
          ],
          [
           74,
           "group C"
          ],
          [
           84,
           "group C"
          ],
          [
           61,
           "group D"
          ],
          [
           91,
           "group B"
          ],
          [
           83,
           "group D"
          ],
          [
           70,
           "group D"
          ],
          [
           56,
           "group D"
          ],
          [
           54,
           "group B"
          ],
          [
           74,
           "group C"
          ],
          [
           76,
           "group A"
          ],
          [
           70,
           "group C"
          ],
          [
           90,
           "group C"
          ],
          [
           90,
           "group C"
          ],
          [
           68,
           "group B"
          ],
          [
           52,
           "group C"
          ],
          [
           76,
           "group D"
          ],
          [
           68,
           "group B"
          ],
          [
           82,
           "group D"
          ],
          [
           92,
           "group B"
          ],
          [
           92,
           "group E"
          ],
          [
           54,
           "group D"
          ],
          [
           80,
           "group B"
          ],
          [
           87,
           "group C"
          ],
          [
           62,
           "group B"
          ],
          [
           94,
           "group B"
          ],
          [
           85,
           "group C"
          ],
          [
           84,
           "group D"
          ],
          [
           73,
           "group E"
          ],
          [
           78,
           "group D"
          ],
          [
           79,
           "group B"
          ],
          [
           84,
           "group C"
          ],
          [
           43,
           "group C"
          ],
          [
           47,
           "group D"
          ],
          [
           70,
           "group C"
          ],
          [
           73,
           "group C"
          ],
          [
           53,
           "group C"
          ],
          [
           94,
           "group E"
          ],
          [
           83,
           "group C"
          ],
          [
           62,
           "group D"
          ],
          [
           79,
           "group C"
          ],
          [
           89,
           "group D"
          ],
          [
           66,
           "group D"
          ],
          [
           97,
           "group A"
          ],
          [
           64,
           "group C"
          ],
          [
           50,
           "group B"
          ],
          [
           33,
           "group C"
          ],
          [
           79,
           "group C"
          ],
          [
           70,
           "group B"
          ],
          [
           79,
           "group D"
          ],
          [
           74,
           "group C"
          ],
          [
           80,
           "group D"
          ],
          [
           100,
           "group E"
          ],
          [
           78,
           "group D"
          ],
          [
           56,
           "group C"
          ],
          [
           64,
           "group C"
          ],
          [
           71,
           "group E"
          ],
          [
           89,
           "group B"
          ],
          [
           58,
           "group B"
          ],
          [
           68,
           "group D"
          ],
          [
           96,
           "group D"
          ],
          [
           80,
           "group E"
          ],
          [
           78,
           "group D"
          ],
          [
           80,
           "group D"
          ],
          [
           77,
           "group D"
          ],
          [
           76,
           "group C"
          ],
          [
           73,
           "group A"
          ],
          [
           62,
           "group C"
          ],
          [
           65,
           "group C"
          ],
          [
           65,
           "group A"
          ],
          [
           73,
           "group E"
          ],
          [
           99,
           "group C"
          ],
          [
           72,
           "group C"
          ],
          [
           73,
           "group D"
          ],
          [
           81,
           "group D"
          ],
          [
           63,
           "group D"
          ],
          [
           30,
           "group C"
          ],
          [
           80,
           "group E"
          ],
          [
           82,
           "group C"
          ],
          [
           54,
           "group C"
          ],
          [
           62,
           "group E"
          ],
          [
           65,
           "group B"
          ],
          [
           66,
           "group C"
          ],
          [
           74,
           "group C"
          ],
          [
           93,
           "group A"
          ],
          [
           72,
           "group C"
          ],
          [
           38,
           "group E"
          ],
          [
           54,
           "group C"
          ],
          [
           62,
           "group E"
          ],
          [
           55,
           "group C"
          ],
          [
           81,
           "group B"
          ],
          [
           85,
           "group C"
          ],
          [
           81,
           "group B"
          ],
          [
           88,
           "group D"
          ],
          [
           73,
           "group D"
          ],
          [
           90,
           "group D"
          ],
          [
           79,
           "group B"
          ],
          [
           80,
           "group E"
          ],
          [
           81,
           "group B"
          ],
          [
           65,
           "group D"
          ],
          [
           68,
           "group E"
          ],
          [
           55,
           "group B"
          ],
          [
           81,
           "group D"
          ],
          [
           76,
           "group A"
          ],
          [
           98,
           "group D"
          ],
          [
           74,
           "group A"
          ],
          [
           79,
           "group B"
          ],
          [
           67,
           "group B"
          ],
          [
           58,
           "group D"
          ],
          [
           69,
           "group D"
          ],
          [
           67,
           "group C"
          ],
          [
           60,
           "group C"
          ],
          [
           71,
           "group C"
          ],
          [
           87,
           "group B"
          ],
          [
           68,
           "group C"
          ],
          [
           76,
           "group C"
          ],
          [
           84,
           "group C"
          ],
          [
           78,
           "group D"
          ],
          [
           66,
           "group B"
          ],
          [
           76,
           "group E"
          ],
          [
           76,
           "group C"
          ],
          [
           74,
           "group D"
          ],
          [
           44,
           "group C"
          ],
          [
           100,
           "group E"
          ],
          [
           53,
           "group C"
          ],
          [
           78,
           "group E"
          ],
          [
           81,
           "group C"
          ],
          [
           73,
           "group D"
          ],
          [
           56,
           "group C"
          ],
          [
           86,
           "group D"
          ],
          [
           90,
           "group C"
          ],
          [
           70,
           "group A"
          ],
          [
           79,
           "group D"
          ],
          [
           82,
           "group E"
          ],
          [
           72,
           "group B"
          ],
          [
           67,
           "group D"
          ],
          [
           64,
           "group B"
          ],
          [
           58,
           "group D"
          ],
          [
           85,
           "group E"
          ],
          [
           99,
           "group D"
          ],
          [
           74,
           "group B"
          ],
          [
           87,
           "group B"
          ],
          [
           99,
           "group C"
          ],
          [
           74,
           "group C"
          ],
          [
           70,
           "group C"
          ],
          [
           88,
           "group B"
          ],
          [
           77,
           "group E"
          ],
          [
           84,
           "group D"
          ],
          [
           80,
           "group B"
          ],
          [
           94,
           "group C"
          ],
          [
           57,
           "group E"
          ],
          [
           73,
           "group B"
          ],
          [
           56,
           "group A"
          ],
          [
           82,
           "group C"
          ],
          [
           72,
           "group C"
          ],
          [
           59,
           "group C"
          ],
          [
           85,
           "group C"
          ],
          [
           92,
           "group E"
          ],
          [
           65,
           "group D"
          ],
          [
           64,
           "group C"
          ],
          [
           54,
           "group D"
          ],
          [
           63,
           "group B"
          ],
          [
           72,
           "group B"
          ],
          [
           77,
           "group C"
          ],
          [
           75,
           "group D"
          ],
          [
           72,
           "group B"
          ],
          [
           79,
           "group C"
          ],
          [
           55,
           "group B"
          ],
          [
           70,
           "group B"
          ],
          [
           43,
           "group C"
          ],
          [
           82,
           "group A"
          ],
          [
           57,
           "group D"
          ],
          [
           84,
           "group B"
          ],
          [
           82,
           "group B"
          ],
          [
           62,
           "group C"
          ],
          [
           44,
           "group B"
          ],
          [
           77,
           "group E"
          ],
          [
           32,
           "group B"
          ],
          [
           61,
           "group C"
          ],
          [
           60,
           "group B"
          ],
          [
           70,
           "group D"
          ],
          [
           51,
           "group B"
          ],
          [
           73,
           "group E"
          ],
          [
           81,
           "group E"
          ],
          [
           57,
           "group C"
          ],
          [
           95,
           "group E"
          ],
          [
           87,
           "group B"
          ],
          [
           78,
           "group C"
          ],
          [
           75,
           "group D"
          ],
          [
           40,
           "group E"
          ],
          [
           67,
           "group C"
          ],
          [
           83,
           "group C"
          ],
          [
           64,
           "group A"
          ],
          [
           68,
           "group B"
          ],
          [
           88,
           "group C"
          ],
          [
           92,
           "group A"
          ],
          [
           93,
           "group D"
          ],
          [
           82,
           "group B"
          ],
          [
           52,
           "group C"
          ],
          [
           70,
           "group C"
          ],
          [
           76,
           "group C"
          ],
          [
           81,
           "group D"
          ],
          [
           57,
           "group A"
          ],
          [
           89,
           "group C"
          ],
          [
           89,
           "group B"
          ],
          [
           74,
           "group C"
          ],
          [
           79,
           "group A"
          ],
          [
           73,
           "group C"
          ],
          [
           46,
           "group D"
          ],
          [
           36,
           "group B"
          ],
          [
           64,
           "group D"
          ],
          [
           68,
           "group C"
          ],
          [
           63,
           "group A"
          ],
          [
           93,
           "group E"
          ],
          [
           96,
           "group B"
          ],
          [
           81,
           "group C"
          ],
          [
           53,
           "group C"
          ],
          [
           87,
           "group E"
          ],
          [
           80,
           "group C"
          ],
          [
           76,
           "group C"
          ],
          [
           61,
           "group C"
          ],
          [
           80,
           "group D"
          ],
          [
           74,
           "group D"
          ],
          [
           70,
           "group E"
          ],
          [
           71,
           "group B"
          ],
          [
           54,
           "group E"
          ],
          [
           80,
           "group C"
          ],
          [
           95,
           "group E"
          ],
          [
           74,
           "group D"
          ],
          [
           91,
           "group E"
          ],
          [
           85,
           "group E"
          ],
          [
           73,
           "group A"
          ],
          [
           69,
           "group E"
          ],
          [
           38,
           "group E"
          ],
          [
           79,
           "group B"
          ],
          [
           82,
           "group D"
          ],
          [
           74,
           "group C"
          ],
          [
           41,
           "group A"
          ],
          [
           100,
           "group D"
          ],
          [
           84,
           "group D"
          ],
          [
           91,
           "group D"
          ],
          [
           72,
           "group C"
          ],
          [
           82,
           "group A"
          ],
          [
           66,
           "group C"
          ],
          [
           66,
           "group C"
          ],
          [
           55,
           "group B"
          ],
          [
           66,
           "group E"
          ],
          [
           52,
           "group C"
          ],
          [
           80,
           "group C"
          ],
          [
           46,
           "group C"
          ],
          [
           65,
           "group B"
          ],
          [
           71,
           "group D"
          ],
          [
           51,
           "group C"
          ],
          [
           57,
           "group E"
          ],
          [
           96,
           "group D"
          ],
          [
           61,
           "group B"
          ],
          [
           58,
           "group C"
          ],
          [
           60,
           "group D"
          ],
          [
           73,
           "group E"
          ],
          [
           83,
           "group D"
          ],
          [
           72,
           "group E"
          ],
          [
           69,
           "group C"
          ],
          [
           100,
           "group D"
          ],
          [
           59,
           "group D"
          ],
          [
           64,
           "group A"
          ],
          [
           53,
           "group D"
          ],
          [
           100,
           "group E"
          ],
          [
           75,
           "group C"
          ],
          [
           72,
           "group D"
          ],
          [
           67,
           "group E"
          ],
          [
           80,
           "group B"
          ],
          [
           100,
           "group D"
          ],
          [
           60,
           "group A"
          ],
          [
           61,
           "group D"
          ],
          [
           67,
           "group A"
          ],
          [
           77,
           "group C"
          ],
          [
           94,
           "group C"
          ],
          [
           23,
           "group B"
          ],
          [
           91,
           "group A"
          ],
          [
           82,
           "group C"
          ],
          [
           51,
           "group C"
          ],
          [
           45,
           "group A"
          ],
          [
           83,
           "group D"
          ],
          [
           78,
           "group B"
          ],
          [
           76,
           "group D"
          ],
          [
           74,
           "group D"
          ],
          [
           95,
           "group E"
          ],
          [
           65,
           "group C"
          ],
          [
           77,
           "group D"
          ],
          [
           86,
           "group D"
          ]
         ],
         "hovertemplate": "gender=female<br>math score=%{x}<br>reading score=%{y}<br>writing score=%{customdata[0]}<br>race/ethnicity=%{customdata[1]}<extra></extra>",
         "legendgroup": "female",
         "marker": {
          "color": "#636efa",
          "symbol": "circle"
         },
         "mode": "markers",
         "name": "female",
         "orientation": "v",
         "showlegend": true,
         "type": "scatter",
         "x": [
          72,
          69,
          90,
          71,
          88,
          38,
          65,
          50,
          69,
          18,
          54,
          65,
          69,
          67,
          62,
          69,
          63,
          56,
          74,
          50,
          75,
          58,
          53,
          50,
          55,
          66,
          57,
          71,
          33,
          82,
          0,
          69,
          59,
          60,
          39,
          58,
          41,
          61,
          62,
          47,
          73,
          76,
          71,
          58,
          73,
          65,
          79,
          63,
          58,
          65,
          85,
          58,
          87,
          52,
          70,
          77,
          51,
          99,
          75,
          78,
          51,
          55,
          79,
          88,
          87,
          51,
          75,
          59,
          76,
          59,
          42,
          22,
          68,
          59,
          70,
          66,
          61,
          75,
          81,
          96,
          58,
          68,
          67,
          79,
          63,
          43,
          81,
          46,
          71,
          52,
          97,
          46,
          50,
          65,
          77,
          66,
          62,
          69,
          45,
          78,
          67,
          65,
          57,
          74,
          58,
          42,
          83,
          34,
          56,
          55,
          52,
          45,
          72,
          88,
          67,
          64,
          80,
          56,
          58,
          65,
          71,
          60,
          62,
          64,
          70,
          65,
          64,
          44,
          99,
          63,
          69,
          88,
          71,
          47,
          65,
          85,
          59,
          65,
          73,
          70,
          37,
          67,
          65,
          67,
          74,
          53,
          49,
          73,
          68,
          59,
          77,
          56,
          67,
          75,
          71,
          43,
          41,
          82,
          41,
          83,
          61,
          24,
          35,
          61,
          69,
          72,
          77,
          52,
          63,
          46,
          59,
          61,
          42,
          80,
          58,
          52,
          27,
          44,
          73,
          45,
          82,
          59,
          80,
          85,
          71,
          80,
          38,
          38,
          67,
          64,
          57,
          62,
          77,
          65,
          50,
          85,
          59,
          49,
          88,
          54,
          63,
          82,
          52,
          70,
          51,
          82,
          57,
          47,
          59,
          62,
          61,
          47,
          67,
          78,
          59,
          73,
          67,
          64,
          100,
          65,
          53,
          79,
          100,
          71,
          77,
          84,
          26,
          77,
          83,
          63,
          68,
          59,
          90,
          71,
          55,
          52,
          49,
          60,
          65,
          64,
          83,
          81,
          54,
          54,
          59,
          66,
          74,
          94,
          95,
          40,
          82,
          86,
          54,
          77,
          76,
          74,
          66,
          66,
          67,
          91,
          36,
          29,
          62,
          68,
          47,
          79,
          66,
          51,
          81,
          82,
          64,
          92,
          62,
          40,
          32,
          55,
          53,
          74,
          63,
          63,
          92,
          61,
          53,
          50,
          74,
          81,
          48,
          53,
          81,
          77,
          63,
          73,
          69,
          65,
          55,
          44,
          54,
          48,
          74,
          92,
          56,
          69,
          65,
          54,
          29,
          76,
          85,
          40,
          61,
          58,
          58,
          65,
          82,
          60,
          37,
          35,
          61,
          44,
          66,
          75,
          67,
          80,
          76,
          74,
          72,
          74,
          65,
          59,
          64,
          50,
          69,
          68,
          85,
          65,
          73,
          62,
          43,
          55,
          65,
          50,
          63,
          77,
          66,
          69,
          65,
          69,
          50,
          73,
          70,
          67,
          29,
          94,
          49,
          73,
          66,
          77,
          49,
          79,
          75,
          59,
          57,
          79,
          57,
          63,
          59,
          42,
          80,
          98,
          60,
          76,
          96,
          76,
          62,
          74,
          65,
          73,
          68,
          87,
          53,
          53,
          37,
          81,
          59,
          50,
          77,
          84,
          52,
          53,
          48,
          62,
          74,
          58,
          68,
          52,
          62,
          49,
          66,
          35,
          72,
          46,
          77,
          76,
          52,
          32,
          72,
          19,
          52,
          48,
          60,
          42,
          57,
          70,
          52,
          87,
          82,
          73,
          64,
          41,
          54,
          72,
          45,
          60,
          77,
          85,
          78,
          71,
          48,
          56,
          65,
          69,
          61,
          74,
          77,
          60,
          75,
          66,
          39,
          23,
          40,
          59,
          61,
          87,
          97,
          65,
          53,
          81,
          71,
          70,
          43,
          59,
          64,
          71,
          64,
          51,
          62,
          93,
          69,
          86,
          85,
          50,
          59,
          32,
          63,
          65,
          73,
          34,
          93,
          67,
          79,
          67,
          69,
          52,
          47,
          46,
          68,
          44,
          57,
          35,
          54,
          65,
          48,
          57,
          78,
          58,
          54,
          49,
          57,
          75,
          74,
          62,
          92,
          45,
          56,
          48,
          100,
          65,
          62,
          68,
          75,
          89,
          53,
          49,
          54,
          64,
          91,
          8,
          78,
          74,
          40,
          44,
          67,
          65,
          55,
          62,
          88,
          59,
          68,
          77
         ],
         "xaxis": "x",
         "y": [
          72,
          90,
          95,
          83,
          95,
          60,
          81,
          53,
          75,
          32,
          58,
          75,
          73,
          69,
          70,
          74,
          65,
          72,
          81,
          64,
          90,
          73,
          58,
          56,
          65,
          71,
          74,
          84,
          41,
          85,
          17,
          80,
          58,
          72,
          64,
          63,
          51,
          74,
          68,
          49,
          80,
          83,
          71,
          70,
          86,
          72,
          86,
          72,
          67,
          67,
          91,
          67,
          100,
          76,
          64,
          89,
          58,
          100,
          85,
          82,
          63,
          69,
          92,
          93,
          95,
          49,
          81,
          66,
          72,
          62,
          55,
          39,
          75,
          70,
          89,
          74,
          86,
          88,
          92,
          100,
          76,
          83,
          75,
          86,
          67,
          51,
          91,
          54,
          77,
          70,
          100,
          64,
          50,
          69,
          88,
          65,
          64,
          84,
          53,
          79,
          84,
          81,
          69,
          81,
          61,
          62,
          86,
          42,
          68,
          65,
          66,
          56,
          72,
          95,
          86,
          60,
          83,
          52,
          70,
          64,
          83,
          70,
          73,
          73,
          75,
          81,
          79,
          50,
          93,
          75,
          72,
          92,
          76,
          53,
          70,
          92,
          63,
          86,
          79,
          78,
          46,
          89,
          73,
          84,
          75,
          71,
          57,
          76,
          67,
          64,
          82,
          65,
          79,
          86,
          81,
          53,
          46,
          90,
          55,
          93,
          68,
          38,
          55,
          73,
          76,
          80,
          94,
          65,
          78,
          58,
          71,
          72,
          66,
          90,
          62,
          58,
          34,
          64,
          84,
          73,
          97,
          70,
          90,
          95,
          83,
          86,
          49,
          43,
          76,
          73,
          78,
          64,
          68,
          74,
          67,
          89,
          54,
          65,
          99,
          59,
          73,
          80,
          57,
          71,
          72,
          93,
          58,
          58,
          85,
          67,
          72,
          59,
          81,
          81,
          73,
          83,
          74,
          85,
          92,
          77,
          61,
          89,
          100,
          70,
          90,
          87,
          31,
          88,
          85,
          69,
          86,
          67,
          90,
          76,
          64,
          59,
          52,
          75,
          85,
          64,
          83,
          88,
          64,
          48,
          78,
          69,
          79,
          87,
          89,
          59,
          82,
          92,
          61,
          97,
          87,
          89,
          74,
          78,
          78,
          86,
          53,
          41,
          74,
          67,
          54,
          88,
          83,
          66,
          77,
          95,
          63,
          100,
          67,
          48,
          39,
          72,
          70,
          75,
          74,
          80,
          100,
          71,
          62,
          66,
          81,
          91,
          56,
          61,
          97,
          79,
          73,
          75,
          77,
          76,
          73,
          63,
          64,
          66,
          76,
          100,
          79,
          77,
          82,
          60,
          29,
          78,
          84,
          58,
          64,
          63,
          59,
          77,
          93,
          68,
          45,
          61,
          58,
          51,
          74,
          88,
          80,
          92,
          74,
          88,
          81,
          79,
          81,
          70,
          62,
          53,
          79,
          80,
          86,
          70,
          79,
          67,
          60,
          71,
          69,
          60,
          73,
          85,
          76,
          78,
          84,
          77,
          64,
          78,
          82,
          72,
          40,
          99,
          53,
          76,
          74,
          77,
          63,
          89,
          82,
          72,
          78,
          81,
          67,
          64,
          63,
          61,
          85,
          100,
          70,
          94,
          96,
          76,
          72,
          90,
          75,
          92,
          77,
          89,
          58,
          66,
          57,
          84,
          73,
          60,
          90,
          95,
          59,
          72,
          58,
          62,
          72,
          75,
          71,
          67,
          78,
          58,
          72,
          44,
          79,
          56,
          90,
          85,
          59,
          51,
          79,
          38,
          65,
          62,
          66,
          52,
          68,
          84,
          55,
          94,
          85,
          76,
          74,
          45,
          64,
          80,
          59,
          72,
          91,
          90,
          90,
          87,
          58,
          68,
          69,
          86,
          60,
          86,
          82,
          64,
          82,
          77,
          52,
          44,
          65,
          72,
          68,
          85,
          97,
          79,
          62,
          86,
          71,
          72,
          62,
          72,
          76,
          70,
          73,
          51,
          76,
          100,
          65,
          85,
          92,
          67,
          62,
          34,
          78,
          78,
          78,
          48,
          100,
          84,
          84,
          75,
          84,
          61,
          62,
          61,
          70,
          61,
          77,
          53,
          65,
          61,
          56,
          58,
          91,
          68,
          61,
          58,
          75,
          77,
          74,
          69,
          100,
          63,
          58,
          54,
          100,
          76,
          70,
          76,
          84,
          100,
          50,
          65,
          63,
          82,
          95,
          24,
          87,
          75,
          59,
          45,
          86,
          82,
          76,
          72,
          99,
          71,
          78,
          86
         ],
         "yaxis": "y"
        },
        {
         "customdata": [
          [
           44,
           "group A"
          ],
          [
           75,
           "group C"
          ],
          [
           39,
           "group B"
          ],
          [
           67,
           "group D"
          ],
          [
           52,
           "group C"
          ],
          [
           43,
           "group D"
          ],
          [
           70,
           "group A"
          ],
          [
           86,
           "group C"
          ],
          [
           46,
           "group C"
          ],
          [
           63,
           "group D"
          ],
          [
           53,
           "group D"
          ],
          [
           80,
           "group D"
          ],
          [
           72,
           "group A"
          ],
          [
           55,
           "group B"
          ],
          [
           65,
           "group C"
          ],
          [
           38,
           "group D"
          ],
          [
           82,
           "group E"
          ],
          [
           79,
           "group E"
          ],
          [
           57,
           "group B"
          ],
          [
           54,
           "group C"
          ],
          [
           66,
           "group B"
          ],
          [
           57,
           "group B"
          ],
          [
           82,
           "group C"
          ],
          [
           48,
           "group E"
          ],
          [
           68,
           "group E"
          ],
          [
           42,
           "group C"
          ],
          [
           75,
           "group D"
          ],
          [
           49,
           "group D"
          ],
          [
           58,
           "group D"
          ],
          [
           72,
           "group E"
          ],
          [
           34,
           "group A"
          ],
          [
           55,
           "group A"
          ],
          [
           61,
           "group B"
          ],
          [
           37,
           "group D"
          ],
          [
           56,
           "group B"
          ],
          [
           63,
           "group D"
          ],
          [
           56,
           "group C"
          ],
          [
           41,
           "group C"
          ],
          [
           38,
           "group B"
          ],
          [
           22,
           "group E"
          ],
          [
           81,
           "group A"
          ],
          [
           45,
           "group B"
          ],
          [
           54,
           "group A"
          ],
          [
           63,
           "group E"
          ],
          [
           34,
           "group D"
          ],
          [
           36,
           "group C"
          ],
          [
           71,
           "group C"
          ],
          [
           50,
           "group C"
          ],
          [
           82,
           "group C"
          ],
          [
           62,
           "group B"
          ],
          [
           67,
           "group B"
          ],
          [
           74,
           "group D"
          ],
          [
           47,
           "group B"
          ],
          [
           90,
           "group C"
          ],
          [
           64,
           "group E"
          ],
          [
           49,
           "group C"
          ],
          [
           47,
           "group A"
          ],
          [
           74,
           "group C"
          ],
          [
           92,
           "group B"
          ],
          [
           56,
           "group D"
          ],
          [
           73,
           "group E"
          ],
          [
           67,
           "group B"
          ],
          [
           74,
           "group D"
          ],
          [
           74,
           "group D"
          ],
          [
           82,
           "group D"
          ],
          [
           40,
           "group C"
          ],
          [
           70,
           "group E"
          ],
          [
           75,
           "group D"
          ],
          [
           48,
           "group C"
          ],
          [
           41,
           "group B"
          ],
          [
           56,
           "group E"
          ],
          [
           69,
           "group D"
          ],
          [
           47,
           "group A"
          ],
          [
           78,
           "group D"
          ],
          [
           75,
           "group B"
          ],
          [
           66,
           "group C"
          ],
          [
           93,
           "group E"
          ],
          [
           69,
           "group A"
          ],
          [
           68,
           "group A"
          ],
          [
           47,
           "group D"
          ],
          [
           61,
           "group D"
          ],
          [
           60,
           "group B"
          ],
          [
           64,
           "group D"
          ],
          [
           74,
           "group B"
          ],
          [
           52,
           "group B"
          ],
          [
           49,
           "group C"
          ],
          [
           51,
           "group C"
          ],
          [
           74,
           "group A"
          ],
          [
           78,
           "group E"
          ],
          [
           75,
           "group C"
          ],
          [
           49,
           "group C"
          ],
          [
           65,
           "group C"
          ],
          [
           65,
           "group E"
          ],
          [
           68,
           "group D"
          ],
          [
           45,
           "group B"
          ],
          [
           79,
           "group D"
          ],
          [
           62,
           "group D"
          ],
          [
           52,
           "group D"
          ],
          [
           65,
           "group C"
          ],
          [
           51,
           "group E"
          ],
          [
           69,
           "group C"
          ],
          [
           42,
           "group C"
          ],
          [
           78,
           "group D"
          ],
          [
           62,
           "group E"
          ],
          [
           76,
           "group E"
          ],
          [
           79,
           "group D"
          ],
          [
           27,
           "group C"
          ],
          [
           56,
           "group C"
          ],
          [
           81,
           "group E"
          ],
          [
           75,
           "group B"
          ],
          [
           70,
           "group B"
          ],
          [
           56,
           "group B"
          ],
          [
           73,
           "group B"
          ],
          [
           75,
           "group D"
          ],
          [
           54,
           "group D"
          ],
          [
           64,
           "group A"
          ],
          [
           66,
           "group D"
          ],
          [
           42,
           "group C"
          ],
          [
           78,
           "group E"
          ],
          [
           84,
           "group C"
          ],
          [
           77,
           "group D"
          ],
          [
           67,
           "group D"
          ],
          [
           51,
           "group B"
          ],
          [
           80,
           "group C"
          ],
          [
           66,
           "group D"
          ],
          [
           43,
           "group E"
          ],
          [
           69,
           "group D"
          ],
          [
           71,
           "group C"
          ],
          [
           74,
           "group E"
          ],
          [
           53,
           "group C"
          ],
          [
           49,
           "group A"
          ],
          [
           72,
           "group D"
          ],
          [
           52,
           "group D"
          ],
          [
           77,
           "group C"
          ],
          [
           78,
           "group C"
          ],
          [
           68,
           "group D"
          ],
          [
           41,
           "group D"
          ],
          [
           61,
           "group C"
          ],
          [
           42,
           "group C"
          ],
          [
           76,
           "group B"
          ],
          [
           73,
           "group C"
          ],
          [
           57,
           "group B"
          ],
          [
           42,
           "group D"
          ],
          [
           46,
           "group D"
          ],
          [
           82,
           "group B"
          ],
          [
           88,
           "group E"
          ],
          [
           76,
           "group B"
          ],
          [
           77,
           "group E"
          ],
          [
           68,
           "group C"
          ],
          [
           70,
           "group D"
          ],
          [
           57,
           "group C"
          ],
          [
           80,
           "group D"
          ],
          [
           60,
           "group B"
          ],
          [
           43,
           "group A"
          ],
          [
           68,
           "group E"
          ],
          [
           50,
           "group C"
          ],
          [
           75,
           "group D"
          ],
          [
           81,
           "group A"
          ],
          [
           52,
           "group D"
          ],
          [
           64,
           "group B"
          ],
          [
           69,
           "group A"
          ],
          [
           81,
           "group E"
          ],
          [
           44,
           "group C"
          ],
          [
           57,
           "group B"
          ],
          [
           68,
           "group D"
          ],
          [
           65,
           "group C"
          ],
          [
           78,
           "group C"
          ],
          [
           69,
           "group B"
          ],
          [
           62,
           "group C"
          ],
          [
           19,
           "group A"
          ],
          [
           77,
           "group C"
          ],
          [
           61,
           "group C"
          ],
          [
           35,
           "group C"
          ],
          [
           53,
           "group E"
          ],
          [
           81,
           "group B"
          ],
          [
           69,
           "group D"
          ],
          [
           43,
           "group C"
          ],
          [
           52,
           "group C"
          ],
          [
           67,
           "group D"
          ],
          [
           67,
           "group D"
          ],
          [
           57,
           "group B"
          ],
          [
           66,
           "group D"
          ],
          [
           76,
           "group E"
          ],
          [
           52,
           "group E"
          ],
          [
           61,
           "group A"
          ],
          [
           61,
           "group D"
          ],
          [
           78,
           "group B"
          ],
          [
           58,
           "group C"
          ],
          [
           60,
           "group A"
          ],
          [
           53,
           "group C"
          ],
          [
           61,
           "group C"
          ],
          [
           71,
           "group E"
          ],
          [
           72,
           "group D"
          ],
          [
           41,
           "group E"
          ],
          [
           62,
           "group A"
          ],
          [
           95,
           "group C"
          ],
          [
           71,
           "group C"
          ],
          [
           75,
           "group D"
          ],
          [
           59,
           "group E"
          ],
          [
           67,
           "group E"
          ],
          [
           56,
           "group C"
          ],
          [
           41,
           "group A"
          ],
          [
           57,
           "group B"
          ],
          [
           54,
           "group D"
          ],
          [
           43,
           "group A"
          ],
          [
           63,
           "group B"
          ],
          [
           85,
           "group D"
          ],
          [
           78,
           "group E"
          ],
          [
           60,
           "group D"
          ],
          [
           67,
           "group B"
          ],
          [
           69,
           "group E"
          ],
          [
           68,
           "group C"
          ],
          [
           67,
           "group C"
          ],
          [
           62,
           "group D"
          ],
          [
           54,
           "group E"
          ],
          [
           34,
           "group B"
          ],
          [
           86,
           "group C"
          ],
          [
           65,
           "group C"
          ],
          [
           53,
           "group A"
          ],
          [
           54,
           "group C"
          ],
          [
           59,
           "group C"
          ],
          [
           55,
           "group C"
          ],
          [
           66,
           "group C"
          ],
          [
           53,
           "group C"
          ],
          [
           64,
           "group D"
          ],
          [
           73,
           "group D"
          ],
          [
           51,
           "group C"
          ],
          [
           82,
           "group D"
          ],
          [
           73,
           "group A"
          ],
          [
           60,
           "group D"
          ],
          [
           80,
           "group C"
          ],
          [
           42,
           "group B"
          ],
          [
           72,
           "group B"
          ],
          [
           49,
           "group C"
          ],
          [
           47,
           "group C"
          ],
          [
           48,
           "group D"
          ],
          [
           68,
           "group B"
          ],
          [
           55,
           "group C"
          ],
          [
           45,
           "group B"
          ],
          [
           62,
           "group A"
          ],
          [
           65,
           "group A"
          ],
          [
           76,
           "group C"
          ],
          [
           66,
           "group E"
          ],
          [
           72,
           "group D"
          ],
          [
           67,
           "group E"
          ],
          [
           68,
           "group B"
          ],
          [
           61,
           "group C"
          ],
          [
           46,
           "group A"
          ],
          [
           71,
           "group C"
          ],
          [
           56,
           "group D"
          ],
          [
           57,
           "group B"
          ],
          [
           82,
           "group A"
          ],
          [
           66,
           "group D"
          ],
          [
           72,
           "group E"
          ],
          [
           54,
           "group C"
          ],
          [
           66,
           "group A"
          ],
          [
           54,
           "group B"
          ],
          [
           77,
           "group C"
          ],
          [
           73,
           "group D"
          ],
          [
           43,
           "group A"
          ],
          [
           52,
           "group D"
          ],
          [
           52,
           "group D"
          ],
          [
           57,
           "group D"
          ],
          [
           50,
           "group C"
          ],
          [
           49,
           "group C"
          ],
          [
           59,
           "group E"
          ],
          [
           60,
           "group C"
          ],
          [
           58,
           "group E"
          ],
          [
           68,
           "group B"
          ],
          [
           58,
           "group C"
          ],
          [
           71,
           "group E"
          ],
          [
           86,
           "group A"
          ],
          [
           68,
           "group C"
          ],
          [
           80,
           "group D"
          ],
          [
           80,
           "group E"
          ],
          [
           64,
           "group C"
          ],
          [
           69,
           "group C"
          ],
          [
           65,
           "group C"
          ],
          [
           88,
           "group B"
          ],
          [
           64,
           "group D"
          ],
          [
           40,
           "group E"
          ],
          [
           66,
           "group C"
          ],
          [
           62,
           "group D"
          ],
          [
           92,
           "group C"
          ],
          [
           46,
           "group B"
          ],
          [
           45,
           "group B"
          ],
          [
           47,
           "group B"
          ],
          [
           67,
           "group D"
          ],
          [
           70,
           "group B"
          ],
          [
           92,
           "group A"
          ],
          [
           53,
           "group A"
          ],
          [
           52,
           "group A"
          ],
          [
           54,
           "group C"
          ],
          [
           50,
           "group A"
          ],
          [
           64,
           "group E"
          ],
          [
           15,
           "group B"
          ],
          [
           48,
           "group A"
          ],
          [
           51,
           "group D"
          ],
          [
           90,
           "group D"
          ],
          [
           62,
           "group C"
          ],
          [
           63,
           "group D"
          ],
          [
           91,
           "group C"
          ],
          [
           83,
           "group D"
          ],
          [
           84,
           "group D"
          ],
          [
           68,
           "group C"
          ],
          [
           56,
           "group B"
          ],
          [
           52,
           "group C"
          ],
          [
           86,
           "group A"
          ],
          [
           99,
           "group D"
          ],
          [
           63,
           "group B"
          ],
          [
           46,
           "group D"
          ],
          [
           46,
           "group D"
          ],
          [
           70,
           "group D"
          ],
          [
           65,
           "group B"
          ],
          [
           80,
           "group D"
          ],
          [
           64,
           "group A"
          ],
          [
           74,
           "group E"
          ],
          [
           51,
           "group D"
          ],
          [
           60,
           "group B"
          ],
          [
           53,
           "group C"
          ],
          [
           64,
           "group C"
          ],
          [
           61,
           "group D"
          ],
          [
           85,
           "group D"
          ],
          [
           73,
           "group C"
          ],
          [
           63,
           "group C"
          ],
          [
           63,
           "group D"
          ],
          [
           61,
           "group C"
          ],
          [
           77,
           "group D"
          ],
          [
           50,
           "group D"
          ],
          [
           78,
           "group D"
          ],
          [
           60,
           "group D"
          ],
          [
           60,
           "group B"
          ],
          [
           54,
           "group B"
          ],
          [
           68,
           "group B"
          ],
          [
           68,
           "group E"
          ],
          [
           73,
           "group D"
          ],
          [
           44,
           "group A"
          ],
          [
           83,
           "group E"
          ],
          [
           59,
           "group C"
          ],
          [
           87,
           "group A"
          ],
          [
           65,
           "group A"
          ],
          [
           36,
           "group D"
          ],
          [
           52,
           "group C"
          ],
          [
           79,
           "group D"
          ],
          [
           90,
           "group C"
          ],
          [
           84,
           "group D"
          ],
          [
           72,
           "group C"
          ],
          [
           80,
           "group E"
          ],
          [
           59,
           "group D"
          ],
          [
           42,
           "group C"
          ],
          [
           41,
           "group B"
          ],
          [
           71,
           "group E"
          ],
          [
           57,
           "group E"
          ],
          [
           37,
           "group C"
          ],
          [
           43,
           "group A"
          ],
          [
           44,
           "group D"
          ],
          [
           59,
           "group C"
          ],
          [
           84,
           "group C"
          ],
          [
           73,
           "group D"
          ],
          [
           55,
           "group C"
          ],
          [
           72,
           "group D"
          ],
          [
           47,
           "group B"
          ],
          [
           74,
           "group D"
          ],
          [
           71,
           "group D"
          ],
          [
           68,
           "group C"
          ],
          [
           86,
           "group B"
          ],
          [
           68,
           "group D"
          ],
          [
           65,
           "group E"
          ],
          [
           75,
           "group C"
          ],
          [
           53,
           "group C"
          ],
          [
           52,
           "group D"
          ],
          [
           72,
           "group E"
          ],
          [
           77,
           "group B"
          ],
          [
           86,
           "group D"
          ],
          [
           59,
           "group D"
          ],
          [
           60,
           "group B"
          ],
          [
           57,
           "group A"
          ],
          [
           49,
           "group B"
          ],
          [
           74,
           "group D"
          ],
          [
           60,
           "group B"
          ],
          [
           82,
           "group E"
          ],
          [
           79,
           "group C"
          ],
          [
           61,
           "group C"
          ],
          [
           69,
           "group D"
          ],
          [
           77,
           "group E"
          ],
          [
           70,
           "group D"
          ],
          [
           54,
           "group E"
          ],
          [
           68,
           "group C"
          ],
          [
           73,
           "group C"
          ],
          [
           74,
           "group A"
          ],
          [
           69,
           "group C"
          ],
          [
           51,
           "group B"
          ],
          [
           36,
           "group A"
          ],
          [
           49,
           "group A"
          ],
          [
           76,
           "group E"
          ],
          [
           87,
           "group B"
          ],
          [
           76,
           "group D"
          ],
          [
           51,
           "group E"
          ],
          [
           58,
           "group C"
          ],
          [
           53,
           "group B"
          ],
          [
           58,
           "group A"
          ],
          [
           45,
           "group B"
          ],
          [
           57,
           "group E"
          ],
          [
           53,
           "group B"
          ],
          [
           51,
           "group C"
          ],
          [
           76,
           "group B"
          ],
          [
           84,
           "group E"
          ],
          [
           85,
           "group C"
          ],
          [
           50,
           "group D"
          ],
          [
           69,
           "group D"
          ],
          [
           67,
           "group C"
          ],
          [
           61,
           "group E"
          ],
          [
           55,
           "group C"
          ],
          [
           65,
           "group B"
          ],
          [
           46,
           "group B"
          ],
          [
           72,
           "group C"
          ],
          [
           38,
           "group D"
          ],
          [
           91,
           "group C"
          ],
          [
           88,
           "group D"
          ],
          [
           52,
           "group C"
          ],
          [
           41,
           "group B"
          ],
          [
           72,
           "group E"
          ],
          [
           51,
           "group C"
          ],
          [
           47,
           "group B"
          ],
          [
           78,
           "group B"
          ],
          [
           82,
           "group E"
          ],
          [
           66,
           "group C"
          ],
          [
           84,
           "group D"
          ],
          [
           54,
           "group C"
          ],
          [
           66,
           "group C"
          ],
          [
           44,
           "group D"
          ],
          [
           59,
           "group C"
          ],
          [
           48,
           "group D"
          ],
          [
           75,
           "group D"
          ],
          [
           27,
           "group B"
          ],
          [
           63,
           "group D"
          ],
          [
           89,
           "group D"
          ],
          [
           77,
           "group D"
          ],
          [
           51,
           "group B"
          ],
          [
           70,
           "group E"
          ],
          [
           48,
           "group D"
          ],
          [
           100,
           "group E"
          ],
          [
           91,
           "group B"
          ],
          [
           67,
           "group D"
          ],
          [
           66,
           "group D"
          ],
          [
           69,
           "group D"
          ],
          [
           60,
           "group E"
          ],
          [
           52,
           "group E"
          ],
          [
           44,
           "group E"
          ],
          [
           70,
           "group C"
          ],
          [
           62,
           "group D"
          ],
          [
           73,
           "group D"
          ],
          [
           74,
           "group C"
          ],
          [
           90,
           "group C"
          ],
          [
           58,
           "group D"
          ],
          [
           53,
           "group A"
          ],
          [
           85,
           "group D"
          ],
          [
           69,
           "group D"
          ],
          [
           72,
           "group C"
          ],
          [
           64,
           "group C"
          ],
          [
           61,
           "group A"
          ],
          [
           80,
           "group B"
          ],
          [
           52,
           "group B"
          ],
          [
           71,
           "group E"
          ],
          [
           54,
           "group C"
          ],
          [
           62,
           "group E"
          ],
          [
           81,
           "group C"
          ],
          [
           71,
           "group C"
          ],
          [
           58,
           "group D"
          ],
          [
           64,
           "group A"
          ],
          [
           60,
           "group C"
          ],
          [
           69,
           "group C"
          ],
          [
           60,
           "group B"
          ],
          [
           58,
           "group C"
          ],
          [
           48,
           "group D"
          ],
          [
           78,
           "group D"
          ],
          [
           86,
           "group B"
          ],
          [
           54,
           "group A"
          ],
          [
           76,
           "group E"
          ],
          [
           75,
           "group E"
          ],
          [
           62,
           "group A"
          ],
          [
           55,
           "group C"
          ]
         ],
         "hovertemplate": "gender=male<br>math score=%{x}<br>reading score=%{y}<br>writing score=%{customdata[0]}<br>race/ethnicity=%{customdata[1]}<extra></extra>",
         "legendgroup": "male",
         "marker": {
          "color": "#EF553B",
          "symbol": "circle"
         },
         "mode": "markers",
         "name": "male",
         "orientation": "v",
         "showlegend": true,
         "type": "scatter",
         "x": [
          47,
          76,
          40,
          64,
          58,
          40,
          78,
          88,
          46,
          66,
          44,
          74,
          73,
          69,
          70,
          40,
          97,
          81,
          57,
          55,
          59,
          65,
          82,
          53,
          77,
          53,
          88,
          52,
          58,
          79,
          39,
          62,
          67,
          45,
          61,
          63,
          61,
          49,
          44,
          30,
          80,
          49,
          50,
          72,
          42,
          27,
          71,
          43,
          78,
          65,
          79,
          68,
          60,
          98,
          66,
          62,
          54,
          84,
          91,
          63,
          83,
          72,
          65,
          82,
          89,
          53,
          87,
          74,
          58,
          51,
          70,
          71,
          57,
          88,
          88,
          73,
          100,
          62,
          77,
          54,
          62,
          60,
          66,
          82,
          49,
          52,
          53,
          72,
          94,
          62,
          45,
          65,
          80,
          62,
          48,
          76,
          77,
          61,
          59,
          55,
          69,
          59,
          74,
          82,
          81,
          80,
          35,
          60,
          87,
          84,
          66,
          61,
          87,
          86,
          57,
          68,
          76,
          46,
          92,
          83,
          80,
          63,
          54,
          84,
          73,
          59,
          75,
          85,
          89,
          68,
          47,
          80,
          54,
          78,
          79,
          76,
          59,
          69,
          58,
          88,
          83,
          73,
          53,
          45,
          81,
          97,
          88,
          77,
          76,
          86,
          63,
          78,
          67,
          46,
          71,
          40,
          90,
          81,
          56,
          80,
          69,
          99,
          51,
          66,
          67,
          71,
          83,
          63,
          61,
          28,
          82,
          71,
          47,
          62,
          90,
          76,
          49,
          58,
          67,
          79,
          62,
          75,
          87,
          66,
          63,
          59,
          85,
          59,
          49,
          69,
          61,
          84,
          74,
          46,
          66,
          87,
          79,
          73,
          73,
          76,
          57,
          48,
          74,
          60,
          53,
          65,
          87,
          84,
          71,
          63,
          84,
          71,
          74,
          68,
          57,
          41,
          86,
          69,
          65,
          68,
          64,
          61,
          73,
          50,
          75,
          75,
          70,
          89,
          79,
          69,
          86,
          47,
          81,
          65,
          37,
          53,
          72,
          53,
          54,
          75,
          72,
          91,
          76,
          80,
          76,
          73,
          68,
          59,
          70,
          61,
          64,
          79,
          68,
          76,
          63,
          68,
          55,
          79,
          76,
          64,
          62,
          71,
          69,
          54,
          53,
          68,
          56,
          62,
          73,
          51,
          85,
          97,
          75,
          79,
          78,
          72,
          79,
          79,
          87,
          77,
          53,
          61,
          73,
          96,
          48,
          48,
          63,
          68,
          71,
          91,
          40,
          61,
          58,
          71,
          68,
          30,
          53,
          60,
          84,
          75,
          69,
          94,
          88,
          95,
          65,
          62,
          58,
          100,
          100,
          69,
          61,
          49,
          67,
          79,
          84,
          71,
          86,
          41,
          70,
          51,
          77,
          69,
          90,
          74,
          73,
          80,
          73,
          81,
          52,
          81,
          63,
          60,
          62,
          62,
          85,
          77,
          53,
          93,
          66,
          87,
          62,
          46,
          66,
          89,
          93,
          81,
          73,
          91,
          55,
          50,
          47,
          81,
          68,
          53,
          55,
          55,
          67,
          92,
          81,
          61,
          80,
          55,
          72,
          69,
          69,
          87,
          71,
          68,
          79,
          58,
          55,
          70,
          69,
          78,
          60,
          76,
          58,
          52,
          75,
          66,
          94,
          91,
          68,
          66,
          89,
          70,
          69,
          67,
          76,
          75,
          90,
          59,
          51,
          45,
          87,
          94,
          61,
          49,
          62,
          68,
          64,
          58,
          73,
          58,
          64,
          74,
          90,
          91,
          64,
          80,
          71,
          82,
          62,
          75,
          52,
          87,
          39,
          97,
          82,
          59,
          61,
          78,
          49,
          59,
          82,
          90,
          80,
          81,
          57,
          63,
          55,
          54,
          44,
          88,
          36,
          67,
          85,
          88,
          57,
          70,
          50,
          100,
          91,
          69,
          72,
          74,
          74,
          64,
          46,
          67,
          62,
          61,
          70,
          98,
          70,
          67,
          85,
          77,
          72,
          81,
          61,
          82,
          49,
          94,
          58,
          72,
          84,
          75,
          72,
          66,
          63,
          78,
          60,
          62,
          55,
          81,
          79,
          57,
          81,
          86,
          63,
          62
         ],
         "xaxis": "x",
         "y": [
          57,
          78,
          43,
          64,
          54,
          52,
          72,
          89,
          42,
          69,
          54,
          71,
          74,
          54,
          70,
          42,
          87,
          81,
          56,
          61,
          65,
          54,
          84,
          55,
          69,
          44,
          78,
          55,
          59,
          74,
          39,
          61,
          64,
          37,
          58,
          55,
          57,
          49,
          41,
          26,
          78,
          45,
          47,
          64,
          39,
          34,
          79,
          45,
          81,
          66,
          67,
          74,
          44,
          86,
          63,
          55,
          53,
          77,
          89,
          57,
          80,
          68,
          77,
          82,
          84,
          37,
          74,
          79,
          55,
          54,
          55,
          61,
          43,
          73,
          84,
          68,
          100,
          67,
          67,
          49,
          67,
          60,
          62,
          78,
          53,
          53,
          51,
          73,
          88,
          68,
          52,
          67,
          76,
          66,
          52,
          83,
          62,
          55,
          69,
          56,
          77,
          41,
          71,
          62,
          80,
          79,
          28,
          51,
          91,
          83,
          77,
          56,
          85,
          80,
          50,
          72,
          64,
          43,
          87,
          82,
          75,
          66,
          52,
          80,
          68,
          51,
          74,
          76,
          76,
          60,
          49,
          80,
          52,
          77,
          79,
          73,
          42,
          63,
          49,
          85,
          78,
          56,
          52,
          48,
          82,
          82,
          75,
          76,
          70,
          73,
          60,
          77,
          62,
          41,
          74,
          46,
          87,
          78,
          54,
          76,
          67,
          87,
          52,
          60,
          61,
          66,
          72,
          71,
          61,
          23,
          75,
          60,
          37,
          56,
          78,
          70,
          51,
          61,
          72,
          73,
          61,
          74,
          74,
          57,
          61,
          62,
          84,
          60,
          58,
          58,
          66,
          77,
          74,
          43,
          64,
          100,
          81,
          70,
          67,
          67,
          54,
          45,
          63,
          59,
          43,
          65,
          84,
          83,
          66,
          67,
          73,
          74,
          73,
          59,
          56,
          39,
          83,
          71,
          59,
          63,
          66,
          56,
          66,
          48,
          68,
          66,
          56,
          88,
          82,
          66,
          81,
          46,
          73,
          58,
          56,
          54,
          65,
          58,
          54,
          58,
          67,
          74,
          62,
          68,
          71,
          71,
          68,
          52,
          74,
          47,
          53,
          82,
          64,
          71,
          61,
          70,
          59,
          78,
          71,
          50,
          49,
          49,
          58,
          59,
          52,
          60,
          61,
          61,
          69,
          60,
          66,
          92,
          69,
          82,
          83,
          67,
          72,
          76,
          90,
          62,
          45,
          67,
          66,
          90,
          51,
          43,
          48,
          68,
          75,
          96,
          55,
          51,
          57,
          62,
          68,
          24,
          54,
          57,
          89,
          72,
          60,
          90,
          78,
          81,
          73,
          63,
          51,
          96,
          97,
          70,
          48,
          57,
          64,
          60,
          84,
          74,
          76,
          52,
          65,
          56,
          67,
          66,
          87,
          77,
          66,
          63,
          74,
          72,
          57,
          75,
          61,
          68,
          55,
          66,
          75,
          78,
          58,
          90,
          66,
          84,
          72,
          34,
          59,
          87,
          84,
          81,
          78,
          73,
          59,
          48,
          43,
          74,
          51,
          39,
          46,
          47,
          57,
          79,
          71,
          60,
          73,
          55,
          79,
          75,
          64,
          84,
          69,
          72,
          77,
          55,
          58,
          68,
          77,
          81,
          63,
          62,
          60,
          48,
          73,
          65,
          85,
          81,
          65,
          74,
          84,
          70,
          60,
          73,
          80,
          81,
          75,
          54,
          31,
          47,
          84,
          86,
          70,
          52,
          67,
          54,
          60,
          50,
          64,
          57,
          58,
          77,
          85,
          85,
          54,
          75,
          67,
          67,
          64,
          68,
          49,
          73,
          42,
          93,
          82,
          53,
          42,
          74,
          51,
          58,
          84,
          90,
          64,
          82,
          61,
          64,
          46,
          72,
          51,
          74,
          29,
          54,
          84,
          77,
          48,
          64,
          42,
          100,
          96,
          70,
          66,
          70,
          64,
          56,
          43,
          74,
          57,
          71,
          75,
          87,
          63,
          57,
          81,
          68,
          66,
          66,
          62,
          82,
          50,
          73,
          52,
          57,
          87,
          81,
          57,
          68,
          63,
          72,
          62,
          65,
          41,
          78,
          85,
          51,
          75,
          81,
          63,
          55
         ],
         "yaxis": "y"
        }
       ],
       "layout": {
        "autosize": true,
        "legend": {
         "title": {
          "text": "gender"
         },
         "tracegroupgap": 0
        },
        "margin": {
         "t": 60
        },
        "template": {
         "data": {
          "bar": [
           {
            "error_x": {
             "color": "#2a3f5f"
            },
            "error_y": {
             "color": "#2a3f5f"
            },
            "marker": {
             "line": {
              "color": "#E5ECF6",
              "width": 0.5
             },
             "pattern": {
              "fillmode": "overlay",
              "size": 10,
              "solidity": 0.2
             }
            },
            "type": "bar"
           }
          ],
          "barpolar": [
           {
            "marker": {
             "line": {
              "color": "#E5ECF6",
              "width": 0.5
             },
             "pattern": {
              "fillmode": "overlay",
              "size": 10,
              "solidity": 0.2
             }
            },
            "type": "barpolar"
           }
          ],
          "carpet": [
           {
            "aaxis": {
             "endlinecolor": "#2a3f5f",
             "gridcolor": "white",
             "linecolor": "white",
             "minorgridcolor": "white",
             "startlinecolor": "#2a3f5f"
            },
            "baxis": {
             "endlinecolor": "#2a3f5f",
             "gridcolor": "white",
             "linecolor": "white",
             "minorgridcolor": "white",
             "startlinecolor": "#2a3f5f"
            },
            "type": "carpet"
           }
          ],
          "choropleth": [
           {
            "colorbar": {
             "outlinewidth": 0,
             "ticks": ""
            },
            "type": "choropleth"
           }
          ],
          "contour": [
           {
            "colorbar": {
             "outlinewidth": 0,
             "ticks": ""
            },
            "colorscale": [
             [
              0,
              "#0d0887"
             ],
             [
              0.1111111111111111,
              "#46039f"
             ],
             [
              0.2222222222222222,
              "#7201a8"
             ],
             [
              0.3333333333333333,
              "#9c179e"
             ],
             [
              0.4444444444444444,
              "#bd3786"
             ],
             [
              0.5555555555555556,
              "#d8576b"
             ],
             [
              0.6666666666666666,
              "#ed7953"
             ],
             [
              0.7777777777777778,
              "#fb9f3a"
             ],
             [
              0.8888888888888888,
              "#fdca26"
             ],
             [
              1,
              "#f0f921"
             ]
            ],
            "type": "contour"
           }
          ],
          "contourcarpet": [
           {
            "colorbar": {
             "outlinewidth": 0,
             "ticks": ""
            },
            "type": "contourcarpet"
           }
          ],
          "heatmap": [
           {
            "colorbar": {
             "outlinewidth": 0,
             "ticks": ""
            },
            "colorscale": [
             [
              0,
              "#0d0887"
             ],
             [
              0.1111111111111111,
              "#46039f"
             ],
             [
              0.2222222222222222,
              "#7201a8"
             ],
             [
              0.3333333333333333,
              "#9c179e"
             ],
             [
              0.4444444444444444,
              "#bd3786"
             ],
             [
              0.5555555555555556,
              "#d8576b"
             ],
             [
              0.6666666666666666,
              "#ed7953"
             ],
             [
              0.7777777777777778,
              "#fb9f3a"
             ],
             [
              0.8888888888888888,
              "#fdca26"
             ],
             [
              1,
              "#f0f921"
             ]
            ],
            "type": "heatmap"
           }
          ],
          "heatmapgl": [
           {
            "colorbar": {
             "outlinewidth": 0,
             "ticks": ""
            },
            "colorscale": [
             [
              0,
              "#0d0887"
             ],
             [
              0.1111111111111111,
              "#46039f"
             ],
             [
              0.2222222222222222,
              "#7201a8"
             ],
             [
              0.3333333333333333,
              "#9c179e"
             ],
             [
              0.4444444444444444,
              "#bd3786"
             ],
             [
              0.5555555555555556,
              "#d8576b"
             ],
             [
              0.6666666666666666,
              "#ed7953"
             ],
             [
              0.7777777777777778,
              "#fb9f3a"
             ],
             [
              0.8888888888888888,
              "#fdca26"
             ],
             [
              1,
              "#f0f921"
             ]
            ],
            "type": "heatmapgl"
           }
          ],
          "histogram": [
           {
            "marker": {
             "pattern": {
              "fillmode": "overlay",
              "size": 10,
              "solidity": 0.2
             }
            },
            "type": "histogram"
           }
          ],
          "histogram2d": [
           {
            "colorbar": {
             "outlinewidth": 0,
             "ticks": ""
            },
            "colorscale": [
             [
              0,
              "#0d0887"
             ],
             [
              0.1111111111111111,
              "#46039f"
             ],
             [
              0.2222222222222222,
              "#7201a8"
             ],
             [
              0.3333333333333333,
              "#9c179e"
             ],
             [
              0.4444444444444444,
              "#bd3786"
             ],
             [
              0.5555555555555556,
              "#d8576b"
             ],
             [
              0.6666666666666666,
              "#ed7953"
             ],
             [
              0.7777777777777778,
              "#fb9f3a"
             ],
             [
              0.8888888888888888,
              "#fdca26"
             ],
             [
              1,
              "#f0f921"
             ]
            ],
            "type": "histogram2d"
           }
          ],
          "histogram2dcontour": [
           {
            "colorbar": {
             "outlinewidth": 0,
             "ticks": ""
            },
            "colorscale": [
             [
              0,
              "#0d0887"
             ],
             [
              0.1111111111111111,
              "#46039f"
             ],
             [
              0.2222222222222222,
              "#7201a8"
             ],
             [
              0.3333333333333333,
              "#9c179e"
             ],
             [
              0.4444444444444444,
              "#bd3786"
             ],
             [
              0.5555555555555556,
              "#d8576b"
             ],
             [
              0.6666666666666666,
              "#ed7953"
             ],
             [
              0.7777777777777778,
              "#fb9f3a"
             ],
             [
              0.8888888888888888,
              "#fdca26"
             ],
             [
              1,
              "#f0f921"
             ]
            ],
            "type": "histogram2dcontour"
           }
          ],
          "mesh3d": [
           {
            "colorbar": {
             "outlinewidth": 0,
             "ticks": ""
            },
            "type": "mesh3d"
           }
          ],
          "parcoords": [
           {
            "line": {
             "colorbar": {
              "outlinewidth": 0,
              "ticks": ""
             }
            },
            "type": "parcoords"
           }
          ],
          "pie": [
           {
            "automargin": true,
            "type": "pie"
           }
          ],
          "scatter": [
           {
            "fillpattern": {
             "fillmode": "overlay",
             "size": 10,
             "solidity": 0.2
            },
            "type": "scatter"
           }
          ],
          "scatter3d": [
           {
            "line": {
             "colorbar": {
              "outlinewidth": 0,
              "ticks": ""
             }
            },
            "marker": {
             "colorbar": {
              "outlinewidth": 0,
              "ticks": ""
             }
            },
            "type": "scatter3d"
           }
          ],
          "scattercarpet": [
           {
            "marker": {
             "colorbar": {
              "outlinewidth": 0,
              "ticks": ""
             }
            },
            "type": "scattercarpet"
           }
          ],
          "scattergeo": [
           {
            "marker": {
             "colorbar": {
              "outlinewidth": 0,
              "ticks": ""
             }
            },
            "type": "scattergeo"
           }
          ],
          "scattergl": [
           {
            "marker": {
             "colorbar": {
              "outlinewidth": 0,
              "ticks": ""
             }
            },
            "type": "scattergl"
           }
          ],
          "scattermapbox": [
           {
            "marker": {
             "colorbar": {
              "outlinewidth": 0,
              "ticks": ""
             }
            },
            "type": "scattermapbox"
           }
          ],
          "scatterpolar": [
           {
            "marker": {
             "colorbar": {
              "outlinewidth": 0,
              "ticks": ""
             }
            },
            "type": "scatterpolar"
           }
          ],
          "scatterpolargl": [
           {
            "marker": {
             "colorbar": {
              "outlinewidth": 0,
              "ticks": ""
             }
            },
            "type": "scatterpolargl"
           }
          ],
          "scatterternary": [
           {
            "marker": {
             "colorbar": {
              "outlinewidth": 0,
              "ticks": ""
             }
            },
            "type": "scatterternary"
           }
          ],
          "surface": [
           {
            "colorbar": {
             "outlinewidth": 0,
             "ticks": ""
            },
            "colorscale": [
             [
              0,
              "#0d0887"
             ],
             [
              0.1111111111111111,
              "#46039f"
             ],
             [
              0.2222222222222222,
              "#7201a8"
             ],
             [
              0.3333333333333333,
              "#9c179e"
             ],
             [
              0.4444444444444444,
              "#bd3786"
             ],
             [
              0.5555555555555556,
              "#d8576b"
             ],
             [
              0.6666666666666666,
              "#ed7953"
             ],
             [
              0.7777777777777778,
              "#fb9f3a"
             ],
             [
              0.8888888888888888,
              "#fdca26"
             ],
             [
              1,
              "#f0f921"
             ]
            ],
            "type": "surface"
           }
          ],
          "table": [
           {
            "cells": {
             "fill": {
              "color": "#EBF0F8"
             },
             "line": {
              "color": "white"
             }
            },
            "header": {
             "fill": {
              "color": "#C8D4E3"
             },
             "line": {
              "color": "white"
             }
            },
            "type": "table"
           }
          ]
         },
         "layout": {
          "annotationdefaults": {
           "arrowcolor": "#2a3f5f",
           "arrowhead": 0,
           "arrowwidth": 1
          },
          "autotypenumbers": "strict",
          "coloraxis": {
           "colorbar": {
            "outlinewidth": 0,
            "ticks": ""
           }
          },
          "colorscale": {
           "diverging": [
            [
             0,
             "#8e0152"
            ],
            [
             0.1,
             "#c51b7d"
            ],
            [
             0.2,
             "#de77ae"
            ],
            [
             0.3,
             "#f1b6da"
            ],
            [
             0.4,
             "#fde0ef"
            ],
            [
             0.5,
             "#f7f7f7"
            ],
            [
             0.6,
             "#e6f5d0"
            ],
            [
             0.7,
             "#b8e186"
            ],
            [
             0.8,
             "#7fbc41"
            ],
            [
             0.9,
             "#4d9221"
            ],
            [
             1,
             "#276419"
            ]
           ],
           "sequential": [
            [
             0,
             "#0d0887"
            ],
            [
             0.1111111111111111,
             "#46039f"
            ],
            [
             0.2222222222222222,
             "#7201a8"
            ],
            [
             0.3333333333333333,
             "#9c179e"
            ],
            [
             0.4444444444444444,
             "#bd3786"
            ],
            [
             0.5555555555555556,
             "#d8576b"
            ],
            [
             0.6666666666666666,
             "#ed7953"
            ],
            [
             0.7777777777777778,
             "#fb9f3a"
            ],
            [
             0.8888888888888888,
             "#fdca26"
            ],
            [
             1,
             "#f0f921"
            ]
           ],
           "sequentialminus": [
            [
             0,
             "#0d0887"
            ],
            [
             0.1111111111111111,
             "#46039f"
            ],
            [
             0.2222222222222222,
             "#7201a8"
            ],
            [
             0.3333333333333333,
             "#9c179e"
            ],
            [
             0.4444444444444444,
             "#bd3786"
            ],
            [
             0.5555555555555556,
             "#d8576b"
            ],
            [
             0.6666666666666666,
             "#ed7953"
            ],
            [
             0.7777777777777778,
             "#fb9f3a"
            ],
            [
             0.8888888888888888,
             "#fdca26"
            ],
            [
             1,
             "#f0f921"
            ]
           ]
          },
          "colorway": [
           "#636efa",
           "#EF553B",
           "#00cc96",
           "#ab63fa",
           "#FFA15A",
           "#19d3f3",
           "#FF6692",
           "#B6E880",
           "#FF97FF",
           "#FECB52"
          ],
          "font": {
           "color": "#2a3f5f"
          },
          "geo": {
           "bgcolor": "white",
           "lakecolor": "white",
           "landcolor": "#E5ECF6",
           "showlakes": true,
           "showland": true,
           "subunitcolor": "white"
          },
          "hoverlabel": {
           "align": "left"
          },
          "hovermode": "closest",
          "mapbox": {
           "style": "light"
          },
          "paper_bgcolor": "white",
          "plot_bgcolor": "#E5ECF6",
          "polar": {
           "angularaxis": {
            "gridcolor": "white",
            "linecolor": "white",
            "ticks": ""
           },
           "bgcolor": "#E5ECF6",
           "radialaxis": {
            "gridcolor": "white",
            "linecolor": "white",
            "ticks": ""
           }
          },
          "scene": {
           "xaxis": {
            "backgroundcolor": "#E5ECF6",
            "gridcolor": "white",
            "gridwidth": 2,
            "linecolor": "white",
            "showbackground": true,
            "ticks": "",
            "zerolinecolor": "white"
           },
           "yaxis": {
            "backgroundcolor": "#E5ECF6",
            "gridcolor": "white",
            "gridwidth": 2,
            "linecolor": "white",
            "showbackground": true,
            "ticks": "",
            "zerolinecolor": "white"
           },
           "zaxis": {
            "backgroundcolor": "#E5ECF6",
            "gridcolor": "white",
            "gridwidth": 2,
            "linecolor": "white",
            "showbackground": true,
            "ticks": "",
            "zerolinecolor": "white"
           }
          },
          "shapedefaults": {
           "line": {
            "color": "#2a3f5f"
           }
          },
          "ternary": {
           "aaxis": {
            "gridcolor": "white",
            "linecolor": "white",
            "ticks": ""
           },
           "baxis": {
            "gridcolor": "white",
            "linecolor": "white",
            "ticks": ""
           },
           "bgcolor": "#E5ECF6",
           "caxis": {
            "gridcolor": "white",
            "linecolor": "white",
            "ticks": ""
           }
          },
          "title": {
           "x": 0.05
          },
          "xaxis": {
           "automargin": true,
           "gridcolor": "white",
           "linecolor": "white",
           "ticks": "",
           "title": {
            "standoff": 15
           },
           "zerolinecolor": "white",
           "zerolinewidth": 2
          },
          "yaxis": {
           "automargin": true,
           "gridcolor": "white",
           "linecolor": "white",
           "ticks": "",
           "title": {
            "standoff": 15
           },
           "zerolinecolor": "white",
           "zerolinewidth": 2
          }
         }
        },
        "xaxis": {
         "anchor": "y",
         "autorange": true,
         "domain": [
          0,
          1
         ],
         "range": [
          -6.072447587147997,
          106.07244758714799
         ],
         "title": {
          "text": "math score"
         },
         "type": "linear"
        },
        "yaxis": {
         "anchor": "x",
         "autorange": true,
         "domain": [
          0,
          1
         ],
         "range": [
          10.573490813648293,
          106.42650918635171
         ],
         "title": {
          "text": "reading score"
         },
         "type": "linear"
        }
       }
      },
      "image/png": "[encoded data removed]",
      "text/html": [
       "<div>                            <div id=\"b254e2fa-759d-4c3b-b147-9722cad21d06\" class=\"plotly-graph-div\" style=\"height:525px; width:100%;\"></div>            <script type=\"text/javascript\">                require([\"plotly\"], function(Plotly) {                    window.PLOTLYENV=window.PLOTLYENV || {};                                    if (document.getElementById(\"b254e2fa-759d-4c3b-b147-9722cad21d06\")) {                    Plotly.newPlot(                        \"b254e2fa-759d-4c3b-b147-9722cad21d06\",                        [{\"customdata\":[[74,\"group B\"],[88,\"group C\"],[93,\"group B\"],[78,\"group B\"],[92,\"group B\"],[50,\"group B\"],[73,\"group B\"],[58,\"group A\"],[78,\"group C\"],[28,\"group B\"],[61,\"group C\"],[70,\"group B\"],[73,\"group C\"],[75,\"group C\"],[75,\"group D\"],[74,\"group D\"],[61,\"group B\"],[65,\"group E\"],[83,\"group D\"],[59,\"group D\"],[88,\"group D\"],[68,\"group C\"],[65,\"group B\"],[54,\"group E\"],[62,\"group A\"],[76,\"group C\"],[76,\"group D\"],[87,\"group C\"],[43,\"group C\"],[86,\"group E\"],[10,\"group C\"],[71,\"group C\"],[59,\"group D\"],[74,\"group C\"],[57,\"group C\"],[73,\"group D\"],[48,\"group A\"],[72,\"group D\"],[68,\"group E\"],[50,\"group B\"],[82,\"group C\"],[88,\"group C\"],[74,\"group D\"],[67,\"group A\"],[82,\"group D\"],[74,\"group C\"],[92,\"group B\"],[70,\"group E\"],[62,\"group D\"],[62,\"group D\"],[89,\"group D\"],[72,\"group C\"],[100,\"group D\"],[70,\"group B\"],[72,\"group B\"],[98,\"group D\"],[54,\"group D\"],[100,\"group E\"],[82,\"group B\"],[79,\"group D\"],[61,\"group D\"],[65,\"group C\"],[89,\"group C\"],[93,\"group C\"],[86,\"group B\"],[51,\"group A\"],[84,\"group C\"],[67,\"group C\"],[71,\"group D\"],[64,\"group C\"],[54,\"group E\"],[33,\"group C\"],[81,\"group D\"],[66,\"group B\"],[88,\"group C\"],[78,\"group E\"],[87,\"group B\"],[85,\"group E\"],[91,\"group E\"],[100,\"group C\"],[78,\"group B\"],[78,\"group B\"],[70,\"group C\"],[81,\"group D\"],[70,\"group C\"],[54,\"group C\"],[87,\"group C\"],[58,\"group B\"],[77,\"group C\"],[62,\"group B\"],[100,\"group D\"],[66,\"group C\"],[47,\"group E\"],[70,\"group D\"],[87,\"group C\"],[69,\"group E\"],[66,\"group B\"],[85,\"group C\"],[55,\"group B\"],[76,\"group B\"],[86,\"group C\"],[77,\"group D\"],[68,\"group B\"],[76,\"group B\"],[66,\"group B\"],[60,\"group C\"],[88,\"group E\"],[39,\"group C\"],[74,\"group D\"],[62,\"group C\"],[73,\"group B\"],[54,\"group E\"],[71,\"group C\"],[94,\"group C\"],[83,\"group B\"],[74,\"group D\"],[83,\"group E\"],[55,\"group D\"],[68,\"group B\"],[62,\"group B\"],[83,\"group D\"],[70,\"group B\"],[70,\"group E\"],[68,\"group C\"],[78,\"group B\"],[81,\"group C\"],[77,\"group C\"],[51,\"group C\"],[90,\"group E\"],[81,\"group C\"],[77,\"group D\"],[95,\"group D\"],[70,\"group E\"],[58,\"group D\"],[71,\"group D\"],[93,\"group C\"],[75,\"group E\"],[80,\"group C\"],[84,\"group D\"],[78,\"group D\"],[46,\"group B\"],[82,\"group B\"],[75,\"group E\"],[81,\"group C\"],[83,\"group C\"],[67,\"group B\"],[52,\"group D\"],[80,\"group B\"],[69,\"group C\"],[75,\"group C\"],[91,\"group D\"],[63,\"group D\"],[84,\"group C\"],[79,\"group E\"],[80,\"group C\"],[53,\"group C\"],[43,\"group C\"],[94,\"group C\"],[51,\"group B\"],[95,\"group C\"],[66,\"group B\"],[27,\"group B\"],[60,\"group D\"],[63,\"group C\"],[74,\"group B\"],[75,\"group C\"],[95,\"group C\"],[69,\"group B\"],[80,\"group C\"],[57,\"group C\"],[70,\"group C\"],[70,\"group B\"],[69,\"group C\"],[89,\"group D\"],[59,\"group B\"],[58,\"group C\"],[32,\"group D\"],[58,\"group A\"],[85,\"group D\"],[70,\"group C\"],[96,\"group D\"],[73,\"group D\"],[82,\"group D\"],[100,\"group D\"],[77,\"group A\"],[83,\"group B\"],[45,\"group E\"],[43,\"group A\"],[75,\"group E\"],[70,\"group E\"],[67,\"group C\"],[64,\"group D\"],[77,\"group D\"],[77,\"group C\"],[63,\"group B\"],[95,\"group C\"],[67,\"group C\"],[55,\"group A\"],[100,\"group D\"],[62,\"group C\"],[68,\"group C\"],[77,\"group B\"],[56,\"group D\"],[74,\"group D\"],[79,\"group C\"],[93,\"group C\"],[64,\"group D\"],[67,\"group D\"],[80,\"group A\"],[62,\"group C\"],[70,\"group C\"],[50,\"group A\"],[79,\"group C\"],[80,\"group D\"],[69,\"group A\"],[76,\"group B\"],[77,\"group C\"],[85,\"group C\"],[97,\"group E\"],[74,\"group C\"],[62,\"group C\"],[89,\"group D\"],[100,\"group E\"],[76,\"group E\"],[91,\"group C\"],[91,\"group C\"],[38,\"group D\"],[85,\"group A\"],[90,\"group C\"],[74,\"group C\"],[84,\"group C\"],[61,\"group D\"],[91,\"group B\"],[83,\"group D\"],[70,\"group D\"],[56,\"group D\"],[54,\"group B\"],[74,\"group C\"],[76,\"group A\"],[70,\"group C\"],[90,\"group C\"],[90,\"group C\"],[68,\"group B\"],[52,\"group C\"],[76,\"group D\"],[68,\"group B\"],[82,\"group D\"],[92,\"group B\"],[92,\"group E\"],[54,\"group D\"],[80,\"group B\"],[87,\"group C\"],[62,\"group B\"],[94,\"group B\"],[85,\"group C\"],[84,\"group D\"],[73,\"group E\"],[78,\"group D\"],[79,\"group B\"],[84,\"group C\"],[43,\"group C\"],[47,\"group D\"],[70,\"group C\"],[73,\"group C\"],[53,\"group C\"],[94,\"group E\"],[83,\"group C\"],[62,\"group D\"],[79,\"group C\"],[89,\"group D\"],[66,\"group D\"],[97,\"group A\"],[64,\"group C\"],[50,\"group B\"],[33,\"group C\"],[79,\"group C\"],[70,\"group B\"],[79,\"group D\"],[74,\"group C\"],[80,\"group D\"],[100,\"group E\"],[78,\"group D\"],[56,\"group C\"],[64,\"group C\"],[71,\"group E\"],[89,\"group B\"],[58,\"group B\"],[68,\"group D\"],[96,\"group D\"],[80,\"group E\"],[78,\"group D\"],[80,\"group D\"],[77,\"group D\"],[76,\"group C\"],[73,\"group A\"],[62,\"group C\"],[65,\"group C\"],[65,\"group A\"],[73,\"group E\"],[99,\"group C\"],[72,\"group C\"],[73,\"group D\"],[81,\"group D\"],[63,\"group D\"],[30,\"group C\"],[80,\"group E\"],[82,\"group C\"],[54,\"group C\"],[62,\"group E\"],[65,\"group B\"],[66,\"group C\"],[74,\"group C\"],[93,\"group A\"],[72,\"group C\"],[38,\"group E\"],[54,\"group C\"],[62,\"group E\"],[55,\"group C\"],[81,\"group B\"],[85,\"group C\"],[81,\"group B\"],[88,\"group D\"],[73,\"group D\"],[90,\"group D\"],[79,\"group B\"],[80,\"group E\"],[81,\"group B\"],[65,\"group D\"],[68,\"group E\"],[55,\"group B\"],[81,\"group D\"],[76,\"group A\"],[98,\"group D\"],[74,\"group A\"],[79,\"group B\"],[67,\"group B\"],[58,\"group D\"],[69,\"group D\"],[67,\"group C\"],[60,\"group C\"],[71,\"group C\"],[87,\"group B\"],[68,\"group C\"],[76,\"group C\"],[84,\"group C\"],[78,\"group D\"],[66,\"group B\"],[76,\"group E\"],[76,\"group C\"],[74,\"group D\"],[44,\"group C\"],[100,\"group E\"],[53,\"group C\"],[78,\"group E\"],[81,\"group C\"],[73,\"group D\"],[56,\"group C\"],[86,\"group D\"],[90,\"group C\"],[70,\"group A\"],[79,\"group D\"],[82,\"group E\"],[72,\"group B\"],[67,\"group D\"],[64,\"group B\"],[58,\"group D\"],[85,\"group E\"],[99,\"group D\"],[74,\"group B\"],[87,\"group B\"],[99,\"group C\"],[74,\"group C\"],[70,\"group C\"],[88,\"group B\"],[77,\"group E\"],[84,\"group D\"],[80,\"group B\"],[94,\"group C\"],[57,\"group E\"],[73,\"group B\"],[56,\"group A\"],[82,\"group C\"],[72,\"group C\"],[59,\"group C\"],[85,\"group C\"],[92,\"group E\"],[65,\"group D\"],[64,\"group C\"],[54,\"group D\"],[63,\"group B\"],[72,\"group B\"],[77,\"group C\"],[75,\"group D\"],[72,\"group B\"],[79,\"group C\"],[55,\"group B\"],[70,\"group B\"],[43,\"group C\"],[82,\"group A\"],[57,\"group D\"],[84,\"group B\"],[82,\"group B\"],[62,\"group C\"],[44,\"group B\"],[77,\"group E\"],[32,\"group B\"],[61,\"group C\"],[60,\"group B\"],[70,\"group D\"],[51,\"group B\"],[73,\"group E\"],[81,\"group E\"],[57,\"group C\"],[95,\"group E\"],[87,\"group B\"],[78,\"group C\"],[75,\"group D\"],[40,\"group E\"],[67,\"group C\"],[83,\"group C\"],[64,\"group A\"],[68,\"group B\"],[88,\"group C\"],[92,\"group A\"],[93,\"group D\"],[82,\"group B\"],[52,\"group C\"],[70,\"group C\"],[76,\"group C\"],[81,\"group D\"],[57,\"group A\"],[89,\"group C\"],[89,\"group B\"],[74,\"group C\"],[79,\"group A\"],[73,\"group C\"],[46,\"group D\"],[36,\"group B\"],[64,\"group D\"],[68,\"group C\"],[63,\"group A\"],[93,\"group E\"],[96,\"group B\"],[81,\"group C\"],[53,\"group C\"],[87,\"group E\"],[80,\"group C\"],[76,\"group C\"],[61,\"group C\"],[80,\"group D\"],[74,\"group D\"],[70,\"group E\"],[71,\"group B\"],[54,\"group E\"],[80,\"group C\"],[95,\"group E\"],[74,\"group D\"],[91,\"group E\"],[85,\"group E\"],[73,\"group A\"],[69,\"group E\"],[38,\"group E\"],[79,\"group B\"],[82,\"group D\"],[74,\"group C\"],[41,\"group A\"],[100,\"group D\"],[84,\"group D\"],[91,\"group D\"],[72,\"group C\"],[82,\"group A\"],[66,\"group C\"],[66,\"group C\"],[55,\"group B\"],[66,\"group E\"],[52,\"group C\"],[80,\"group C\"],[46,\"group C\"],[65,\"group B\"],[71,\"group D\"],[51,\"group C\"],[57,\"group E\"],[96,\"group D\"],[61,\"group B\"],[58,\"group C\"],[60,\"group D\"],[73,\"group E\"],[83,\"group D\"],[72,\"group E\"],[69,\"group C\"],[100,\"group D\"],[59,\"group D\"],[64,\"group A\"],[53,\"group D\"],[100,\"group E\"],[75,\"group C\"],[72,\"group D\"],[67,\"group E\"],[80,\"group B\"],[100,\"group D\"],[60,\"group A\"],[61,\"group D\"],[67,\"group A\"],[77,\"group C\"],[94,\"group C\"],[23,\"group B\"],[91,\"group A\"],[82,\"group C\"],[51,\"group C\"],[45,\"group A\"],[83,\"group D\"],[78,\"group B\"],[76,\"group D\"],[74,\"group D\"],[95,\"group E\"],[65,\"group C\"],[77,\"group D\"],[86,\"group D\"]],\"hovertemplate\":\"gender=female\\u003cbr\\u003emath score=%{x}\\u003cbr\\u003ereading score=%{y}\\u003cbr\\u003ewriting score=%{customdata[0]}\\u003cbr\\u003erace\\u002fethnicity=%{customdata[1]}\\u003cextra\\u003e\\u003c\\u002fextra\\u003e\",\"legendgroup\":\"female\",\"marker\":{\"color\":\"#636efa\",\"symbol\":\"circle\"},\"mode\":\"markers\",\"name\":\"female\",\"orientation\":\"v\",\"showlegend\":true,\"x\":[72,69,90,71,88,38,65,50,69,18,54,65,69,67,62,69,63,56,74,50,75,58,53,50,55,66,57,71,33,82,0,69,59,60,39,58,41,61,62,47,73,76,71,58,73,65,79,63,58,65,85,58,87,52,70,77,51,99,75,78,51,55,79,88,87,51,75,59,76,59,42,22,68,59,70,66,61,75,81,96,58,68,67,79,63,43,81,46,71,52,97,46,50,65,77,66,62,69,45,78,67,65,57,74,58,42,83,34,56,55,52,45,72,88,67,64,80,56,58,65,71,60,62,64,70,65,64,44,99,63,69,88,71,47,65,85,59,65,73,70,37,67,65,67,74,53,49,73,68,59,77,56,67,75,71,43,41,82,41,83,61,24,35,61,69,72,77,52,63,46,59,61,42,80,58,52,27,44,73,45,82,59,80,85,71,80,38,38,67,64,57,62,77,65,50,85,59,49,88,54,63,82,52,70,51,82,57,47,59,62,61,47,67,78,59,73,67,64,100,65,53,79,100,71,77,84,26,77,83,63,68,59,90,71,55,52,49,60,65,64,83,81,54,54,59,66,74,94,95,40,82,86,54,77,76,74,66,66,67,91,36,29,62,68,47,79,66,51,81,82,64,92,62,40,32,55,53,74,63,63,92,61,53,50,74,81,48,53,81,77,63,73,69,65,55,44,54,48,74,92,56,69,65,54,29,76,85,40,61,58,58,65,82,60,37,35,61,44,66,75,67,80,76,74,72,74,65,59,64,50,69,68,85,65,73,62,43,55,65,50,63,77,66,69,65,69,50,73,70,67,29,94,49,73,66,77,49,79,75,59,57,79,57,63,59,42,80,98,60,76,96,76,62,74,65,73,68,87,53,53,37,81,59,50,77,84,52,53,48,62,74,58,68,52,62,49,66,35,72,46,77,76,52,32,72,19,52,48,60,42,57,70,52,87,82,73,64,41,54,72,45,60,77,85,78,71,48,56,65,69,61,74,77,60,75,66,39,23,40,59,61,87,97,65,53,81,71,70,43,59,64,71,64,51,62,93,69,86,85,50,59,32,63,65,73,34,93,67,79,67,69,52,47,46,68,44,57,35,54,65,48,57,78,58,54,49,57,75,74,62,92,45,56,48,100,65,62,68,75,89,53,49,54,64,91,8,78,74,40,44,67,65,55,62,88,59,68,77],\"xaxis\":\"x\",\"y\":[72,90,95,83,95,60,81,53,75,32,58,75,73,69,70,74,65,72,81,64,90,73,58,56,65,71,74,84,41,85,17,80,58,72,64,63,51,74,68,49,80,83,71,70,86,72,86,72,67,67,91,67,100,76,64,89,58,100,85,82,63,69,92,93,95,49,81,66,72,62,55,39,75,70,89,74,86,88,92,100,76,83,75,86,67,51,91,54,77,70,100,64,50,69,88,65,64,84,53,79,84,81,69,81,61,62,86,42,68,65,66,56,72,95,86,60,83,52,70,64,83,70,73,73,75,81,79,50,93,75,72,92,76,53,70,92,63,86,79,78,46,89,73,84,75,71,57,76,67,64,82,65,79,86,81,53,46,90,55,93,68,38,55,73,76,80,94,65,78,58,71,72,66,90,62,58,34,64,84,73,97,70,90,95,83,86,49,43,76,73,78,64,68,74,67,89,54,65,99,59,73,80,57,71,72,93,58,58,85,67,72,59,81,81,73,83,74,85,92,77,61,89,100,70,90,87,31,88,85,69,86,67,90,76,64,59,52,75,85,64,83,88,64,48,78,69,79,87,89,59,82,92,61,97,87,89,74,78,78,86,53,41,74,67,54,88,83,66,77,95,63,100,67,48,39,72,70,75,74,80,100,71,62,66,81,91,56,61,97,79,73,75,77,76,73,63,64,66,76,100,79,77,82,60,29,78,84,58,64,63,59,77,93,68,45,61,58,51,74,88,80,92,74,88,81,79,81,70,62,53,79,80,86,70,79,67,60,71,69,60,73,85,76,78,84,77,64,78,82,72,40,99,53,76,74,77,63,89,82,72,78,81,67,64,63,61,85,100,70,94,96,76,72,90,75,92,77,89,58,66,57,84,73,60,90,95,59,72,58,62,72,75,71,67,78,58,72,44,79,56,90,85,59,51,79,38,65,62,66,52,68,84,55,94,85,76,74,45,64,80,59,72,91,90,90,87,58,68,69,86,60,86,82,64,82,77,52,44,65,72,68,85,97,79,62,86,71,72,62,72,76,70,73,51,76,100,65,85,92,67,62,34,78,78,78,48,100,84,84,75,84,61,62,61,70,61,77,53,65,61,56,58,91,68,61,58,75,77,74,69,100,63,58,54,100,76,70,76,84,100,50,65,63,82,95,24,87,75,59,45,86,82,76,72,99,71,78,86],\"yaxis\":\"y\",\"type\":\"scatter\"},{\"customdata\":[[44,\"group A\"],[75,\"group C\"],[39,\"group B\"],[67,\"group D\"],[52,\"group C\"],[43,\"group D\"],[70,\"group A\"],[86,\"group C\"],[46,\"group C\"],[63,\"group D\"],[53,\"group D\"],[80,\"group D\"],[72,\"group A\"],[55,\"group B\"],[65,\"group C\"],[38,\"group D\"],[82,\"group E\"],[79,\"group E\"],[57,\"group B\"],[54,\"group C\"],[66,\"group B\"],[57,\"group B\"],[82,\"group C\"],[48,\"group E\"],[68,\"group E\"],[42,\"group C\"],[75,\"group D\"],[49,\"group D\"],[58,\"group D\"],[72,\"group E\"],[34,\"group A\"],[55,\"group A\"],[61,\"group B\"],[37,\"group D\"],[56,\"group B\"],[63,\"group D\"],[56,\"group C\"],[41,\"group C\"],[38,\"group B\"],[22,\"group E\"],[81,\"group A\"],[45,\"group B\"],[54,\"group A\"],[63,\"group E\"],[34,\"group D\"],[36,\"group C\"],[71,\"group C\"],[50,\"group C\"],[82,\"group C\"],[62,\"group B\"],[67,\"group B\"],[74,\"group D\"],[47,\"group B\"],[90,\"group C\"],[64,\"group E\"],[49,\"group C\"],[47,\"group A\"],[74,\"group C\"],[92,\"group B\"],[56,\"group D\"],[73,\"group E\"],[67,\"group B\"],[74,\"group D\"],[74,\"group D\"],[82,\"group D\"],[40,\"group C\"],[70,\"group E\"],[75,\"group D\"],[48,\"group C\"],[41,\"group B\"],[56,\"group E\"],[69,\"group D\"],[47,\"group A\"],[78,\"group D\"],[75,\"group B\"],[66,\"group C\"],[93,\"group E\"],[69,\"group A\"],[68,\"group A\"],[47,\"group D\"],[61,\"group D\"],[60,\"group B\"],[64,\"group D\"],[74,\"group B\"],[52,\"group B\"],[49,\"group C\"],[51,\"group C\"],[74,\"group A\"],[78,\"group E\"],[75,\"group C\"],[49,\"group C\"],[65,\"group C\"],[65,\"group E\"],[68,\"group D\"],[45,\"group B\"],[79,\"group D\"],[62,\"group D\"],[52,\"group D\"],[65,\"group C\"],[51,\"group E\"],[69,\"group C\"],[42,\"group C\"],[78,\"group D\"],[62,\"group E\"],[76,\"group E\"],[79,\"group D\"],[27,\"group C\"],[56,\"group C\"],[81,\"group E\"],[75,\"group B\"],[70,\"group B\"],[56,\"group B\"],[73,\"group B\"],[75,\"group D\"],[54,\"group D\"],[64,\"group A\"],[66,\"group D\"],[42,\"group C\"],[78,\"group E\"],[84,\"group C\"],[77,\"group D\"],[67,\"group D\"],[51,\"group B\"],[80,\"group C\"],[66,\"group D\"],[43,\"group E\"],[69,\"group D\"],[71,\"group C\"],[74,\"group E\"],[53,\"group C\"],[49,\"group A\"],[72,\"group D\"],[52,\"group D\"],[77,\"group C\"],[78,\"group C\"],[68,\"group D\"],[41,\"group D\"],[61,\"group C\"],[42,\"group C\"],[76,\"group B\"],[73,\"group C\"],[57,\"group B\"],[42,\"group D\"],[46,\"group D\"],[82,\"group B\"],[88,\"group E\"],[76,\"group B\"],[77,\"group E\"],[68,\"group C\"],[70,\"group D\"],[57,\"group C\"],[80,\"group D\"],[60,\"group B\"],[43,\"group A\"],[68,\"group E\"],[50,\"group C\"],[75,\"group D\"],[81,\"group A\"],[52,\"group D\"],[64,\"group B\"],[69,\"group A\"],[81,\"group E\"],[44,\"group C\"],[57,\"group B\"],[68,\"group D\"],[65,\"group C\"],[78,\"group C\"],[69,\"group B\"],[62,\"group C\"],[19,\"group A\"],[77,\"group C\"],[61,\"group C\"],[35,\"group C\"],[53,\"group E\"],[81,\"group B\"],[69,\"group D\"],[43,\"group C\"],[52,\"group C\"],[67,\"group D\"],[67,\"group D\"],[57,\"group B\"],[66,\"group D\"],[76,\"group E\"],[52,\"group E\"],[61,\"group A\"],[61,\"group D\"],[78,\"group B\"],[58,\"group C\"],[60,\"group A\"],[53,\"group C\"],[61,\"group C\"],[71,\"group E\"],[72,\"group D\"],[41,\"group E\"],[62,\"group A\"],[95,\"group C\"],[71,\"group C\"],[75,\"group D\"],[59,\"group E\"],[67,\"group E\"],[56,\"group C\"],[41,\"group A\"],[57,\"group B\"],[54,\"group D\"],[43,\"group A\"],[63,\"group B\"],[85,\"group D\"],[78,\"group E\"],[60,\"group D\"],[67,\"group B\"],[69,\"group E\"],[68,\"group C\"],[67,\"group C\"],[62,\"group D\"],[54,\"group E\"],[34,\"group B\"],[86,\"group C\"],[65,\"group C\"],[53,\"group A\"],[54,\"group C\"],[59,\"group C\"],[55,\"group C\"],[66,\"group C\"],[53,\"group C\"],[64,\"group D\"],[73,\"group D\"],[51,\"group C\"],[82,\"group D\"],[73,\"group A\"],[60,\"group D\"],[80,\"group C\"],[42,\"group B\"],[72,\"group B\"],[49,\"group C\"],[47,\"group C\"],[48,\"group D\"],[68,\"group B\"],[55,\"group C\"],[45,\"group B\"],[62,\"group A\"],[65,\"group A\"],[76,\"group C\"],[66,\"group E\"],[72,\"group D\"],[67,\"group E\"],[68,\"group B\"],[61,\"group C\"],[46,\"group A\"],[71,\"group C\"],[56,\"group D\"],[57,\"group B\"],[82,\"group A\"],[66,\"group D\"],[72,\"group E\"],[54,\"group C\"],[66,\"group A\"],[54,\"group B\"],[77,\"group C\"],[73,\"group D\"],[43,\"group A\"],[52,\"group D\"],[52,\"group D\"],[57,\"group D\"],[50,\"group C\"],[49,\"group C\"],[59,\"group E\"],[60,\"group C\"],[58,\"group E\"],[68,\"group B\"],[58,\"group C\"],[71,\"group E\"],[86,\"group A\"],[68,\"group C\"],[80,\"group D\"],[80,\"group E\"],[64,\"group C\"],[69,\"group C\"],[65,\"group C\"],[88,\"group B\"],[64,\"group D\"],[40,\"group E\"],[66,\"group C\"],[62,\"group D\"],[92,\"group C\"],[46,\"group B\"],[45,\"group B\"],[47,\"group B\"],[67,\"group D\"],[70,\"group B\"],[92,\"group A\"],[53,\"group A\"],[52,\"group A\"],[54,\"group C\"],[50,\"group A\"],[64,\"group E\"],[15,\"group B\"],[48,\"group A\"],[51,\"group D\"],[90,\"group D\"],[62,\"group C\"],[63,\"group D\"],[91,\"group C\"],[83,\"group D\"],[84,\"group D\"],[68,\"group C\"],[56,\"group B\"],[52,\"group C\"],[86,\"group A\"],[99,\"group D\"],[63,\"group B\"],[46,\"group D\"],[46,\"group D\"],[70,\"group D\"],[65,\"group B\"],[80,\"group D\"],[64,\"group A\"],[74,\"group E\"],[51,\"group D\"],[60,\"group B\"],[53,\"group C\"],[64,\"group C\"],[61,\"group D\"],[85,\"group D\"],[73,\"group C\"],[63,\"group C\"],[63,\"group D\"],[61,\"group C\"],[77,\"group D\"],[50,\"group D\"],[78,\"group D\"],[60,\"group D\"],[60,\"group B\"],[54,\"group B\"],[68,\"group B\"],[68,\"group E\"],[73,\"group D\"],[44,\"group A\"],[83,\"group E\"],[59,\"group C\"],[87,\"group A\"],[65,\"group A\"],[36,\"group D\"],[52,\"group C\"],[79,\"group D\"],[90,\"group C\"],[84,\"group D\"],[72,\"group C\"],[80,\"group E\"],[59,\"group D\"],[42,\"group C\"],[41,\"group B\"],[71,\"group E\"],[57,\"group E\"],[37,\"group C\"],[43,\"group A\"],[44,\"group D\"],[59,\"group C\"],[84,\"group C\"],[73,\"group D\"],[55,\"group C\"],[72,\"group D\"],[47,\"group B\"],[74,\"group D\"],[71,\"group D\"],[68,\"group C\"],[86,\"group B\"],[68,\"group D\"],[65,\"group E\"],[75,\"group C\"],[53,\"group C\"],[52,\"group D\"],[72,\"group E\"],[77,\"group B\"],[86,\"group D\"],[59,\"group D\"],[60,\"group B\"],[57,\"group A\"],[49,\"group B\"],[74,\"group D\"],[60,\"group B\"],[82,\"group E\"],[79,\"group C\"],[61,\"group C\"],[69,\"group D\"],[77,\"group E\"],[70,\"group D\"],[54,\"group E\"],[68,\"group C\"],[73,\"group C\"],[74,\"group A\"],[69,\"group C\"],[51,\"group B\"],[36,\"group A\"],[49,\"group A\"],[76,\"group E\"],[87,\"group B\"],[76,\"group D\"],[51,\"group E\"],[58,\"group C\"],[53,\"group B\"],[58,\"group A\"],[45,\"group B\"],[57,\"group E\"],[53,\"group B\"],[51,\"group C\"],[76,\"group B\"],[84,\"group E\"],[85,\"group C\"],[50,\"group D\"],[69,\"group D\"],[67,\"group C\"],[61,\"group E\"],[55,\"group C\"],[65,\"group B\"],[46,\"group B\"],[72,\"group C\"],[38,\"group D\"],[91,\"group C\"],[88,\"group D\"],[52,\"group C\"],[41,\"group B\"],[72,\"group E\"],[51,\"group C\"],[47,\"group B\"],[78,\"group B\"],[82,\"group E\"],[66,\"group C\"],[84,\"group D\"],[54,\"group C\"],[66,\"group C\"],[44,\"group D\"],[59,\"group C\"],[48,\"group D\"],[75,\"group D\"],[27,\"group B\"],[63,\"group D\"],[89,\"group D\"],[77,\"group D\"],[51,\"group B\"],[70,\"group E\"],[48,\"group D\"],[100,\"group E\"],[91,\"group B\"],[67,\"group D\"],[66,\"group D\"],[69,\"group D\"],[60,\"group E\"],[52,\"group E\"],[44,\"group E\"],[70,\"group C\"],[62,\"group D\"],[73,\"group D\"],[74,\"group C\"],[90,\"group C\"],[58,\"group D\"],[53,\"group A\"],[85,\"group D\"],[69,\"group D\"],[72,\"group C\"],[64,\"group C\"],[61,\"group A\"],[80,\"group B\"],[52,\"group B\"],[71,\"group E\"],[54,\"group C\"],[62,\"group E\"],[81,\"group C\"],[71,\"group C\"],[58,\"group D\"],[64,\"group A\"],[60,\"group C\"],[69,\"group C\"],[60,\"group B\"],[58,\"group C\"],[48,\"group D\"],[78,\"group D\"],[86,\"group B\"],[54,\"group A\"],[76,\"group E\"],[75,\"group E\"],[62,\"group A\"],[55,\"group C\"]],\"hovertemplate\":\"gender=male\\u003cbr\\u003emath score=%{x}\\u003cbr\\u003ereading score=%{y}\\u003cbr\\u003ewriting score=%{customdata[0]}\\u003cbr\\u003erace\\u002fethnicity=%{customdata[1]}\\u003cextra\\u003e\\u003c\\u002fextra\\u003e\",\"legendgroup\":\"male\",\"marker\":{\"color\":\"#EF553B\",\"symbol\":\"circle\"},\"mode\":\"markers\",\"name\":\"male\",\"orientation\":\"v\",\"showlegend\":true,\"x\":[47,76,40,64,58,40,78,88,46,66,44,74,73,69,70,40,97,81,57,55,59,65,82,53,77,53,88,52,58,79,39,62,67,45,61,63,61,49,44,30,80,49,50,72,42,27,71,43,78,65,79,68,60,98,66,62,54,84,91,63,83,72,65,82,89,53,87,74,58,51,70,71,57,88,88,73,100,62,77,54,62,60,66,82,49,52,53,72,94,62,45,65,80,62,48,76,77,61,59,55,69,59,74,82,81,80,35,60,87,84,66,61,87,86,57,68,76,46,92,83,80,63,54,84,73,59,75,85,89,68,47,80,54,78,79,76,59,69,58,88,83,73,53,45,81,97,88,77,76,86,63,78,67,46,71,40,90,81,56,80,69,99,51,66,67,71,83,63,61,28,82,71,47,62,90,76,49,58,67,79,62,75,87,66,63,59,85,59,49,69,61,84,74,46,66,87,79,73,73,76,57,48,74,60,53,65,87,84,71,63,84,71,74,68,57,41,86,69,65,68,64,61,73,50,75,75,70,89,79,69,86,47,81,65,37,53,72,53,54,75,72,91,76,80,76,73,68,59,70,61,64,79,68,76,63,68,55,79,76,64,62,71,69,54,53,68,56,62,73,51,85,97,75,79,78,72,79,79,87,77,53,61,73,96,48,48,63,68,71,91,40,61,58,71,68,30,53,60,84,75,69,94,88,95,65,62,58,100,100,69,61,49,67,79,84,71,86,41,70,51,77,69,90,74,73,80,73,81,52,81,63,60,62,62,85,77,53,93,66,87,62,46,66,89,93,81,73,91,55,50,47,81,68,53,55,55,67,92,81,61,80,55,72,69,69,87,71,68,79,58,55,70,69,78,60,76,58,52,75,66,94,91,68,66,89,70,69,67,76,75,90,59,51,45,87,94,61,49,62,68,64,58,73,58,64,74,90,91,64,80,71,82,62,75,52,87,39,97,82,59,61,78,49,59,82,90,80,81,57,63,55,54,44,88,36,67,85,88,57,70,50,100,91,69,72,74,74,64,46,67,62,61,70,98,70,67,85,77,72,81,61,82,49,94,58,72,84,75,72,66,63,78,60,62,55,81,79,57,81,86,63,62],\"xaxis\":\"x\",\"y\":[57,78,43,64,54,52,72,89,42,69,54,71,74,54,70,42,87,81,56,61,65,54,84,55,69,44,78,55,59,74,39,61,64,37,58,55,57,49,41,26,78,45,47,64,39,34,79,45,81,66,67,74,44,86,63,55,53,77,89,57,80,68,77,82,84,37,74,79,55,54,55,61,43,73,84,68,100,67,67,49,67,60,62,78,53,53,51,73,88,68,52,67,76,66,52,83,62,55,69,56,77,41,71,62,80,79,28,51,91,83,77,56,85,80,50,72,64,43,87,82,75,66,52,80,68,51,74,76,76,60,49,80,52,77,79,73,42,63,49,85,78,56,52,48,82,82,75,76,70,73,60,77,62,41,74,46,87,78,54,76,67,87,52,60,61,66,72,71,61,23,75,60,37,56,78,70,51,61,72,73,61,74,74,57,61,62,84,60,58,58,66,77,74,43,64,100,81,70,67,67,54,45,63,59,43,65,84,83,66,67,73,74,73,59,56,39,83,71,59,63,66,56,66,48,68,66,56,88,82,66,81,46,73,58,56,54,65,58,54,58,67,74,62,68,71,71,68,52,74,47,53,82,64,71,61,70,59,78,71,50,49,49,58,59,52,60,61,61,69,60,66,92,69,82,83,67,72,76,90,62,45,67,66,90,51,43,48,68,75,96,55,51,57,62,68,24,54,57,89,72,60,90,78,81,73,63,51,96,97,70,48,57,64,60,84,74,76,52,65,56,67,66,87,77,66,63,74,72,57,75,61,68,55,66,75,78,58,90,66,84,72,34,59,87,84,81,78,73,59,48,43,74,51,39,46,47,57,79,71,60,73,55,79,75,64,84,69,72,77,55,58,68,77,81,63,62,60,48,73,65,85,81,65,74,84,70,60,73,80,81,75,54,31,47,84,86,70,52,67,54,60,50,64,57,58,77,85,85,54,75,67,67,64,68,49,73,42,93,82,53,42,74,51,58,84,90,64,82,61,64,46,72,51,74,29,54,84,77,48,64,42,100,96,70,66,70,64,56,43,74,57,71,75,87,63,57,81,68,66,66,62,82,50,73,52,57,87,81,57,68,63,72,62,65,41,78,85,51,75,81,63,55],\"yaxis\":\"y\",\"type\":\"scatter\"}],                        {\"template\":{\"data\":{\"histogram2dcontour\":[{\"type\":\"histogram2dcontour\",\"colorbar\":{\"outlinewidth\":0,\"ticks\":\"\"},\"colorscale\":[[0.0,\"#0d0887\"],[0.1111111111111111,\"#46039f\"],[0.2222222222222222,\"#7201a8\"],[0.3333333333333333,\"#9c179e\"],[0.4444444444444444,\"#bd3786\"],[0.5555555555555556,\"#d8576b\"],[0.6666666666666666,\"#ed7953\"],[0.7777777777777778,\"#fb9f3a\"],[0.8888888888888888,\"#fdca26\"],[1.0,\"#f0f921\"]]}],\"choropleth\":[{\"type\":\"choropleth\",\"colorbar\":{\"outlinewidth\":0,\"ticks\":\"\"}}],\"histogram2d\":[{\"type\":\"histogram2d\",\"colorbar\":{\"outlinewidth\":0,\"ticks\":\"\"},\"colorscale\":[[0.0,\"#0d0887\"],[0.1111111111111111,\"#46039f\"],[0.2222222222222222,\"#7201a8\"],[0.3333333333333333,\"#9c179e\"],[0.4444444444444444,\"#bd3786\"],[0.5555555555555556,\"#d8576b\"],[0.6666666666666666,\"#ed7953\"],[0.7777777777777778,\"#fb9f3a\"],[0.8888888888888888,\"#fdca26\"],[1.0,\"#f0f921\"]]}],\"heatmap\":[{\"type\":\"heatmap\",\"colorbar\":{\"outlinewidth\":0,\"ticks\":\"\"},\"colorscale\":[[0.0,\"#0d0887\"],[0.1111111111111111,\"#46039f\"],[0.2222222222222222,\"#7201a8\"],[0.3333333333333333,\"#9c179e\"],[0.4444444444444444,\"#bd3786\"],[0.5555555555555556,\"#d8576b\"],[0.6666666666666666,\"#ed7953\"],[0.7777777777777778,\"#fb9f3a\"],[0.8888888888888888,\"#fdca26\"],[1.0,\"#f0f921\"]]}],\"heatmapgl\":[{\"type\":\"heatmapgl\",\"colorbar\":{\"outlinewidth\":0,\"ticks\":\"\"},\"colorscale\":[[0.0,\"#0d0887\"],[0.1111111111111111,\"#46039f\"],[0.2222222222222222,\"#7201a8\"],[0.3333333333333333,\"#9c179e\"],[0.4444444444444444,\"#bd3786\"],[0.5555555555555556,\"#d8576b\"],[0.6666666666666666,\"#ed7953\"],[0.7777777777777778,\"#fb9f3a\"],[0.8888888888888888,\"#fdca26\"],[1.0,\"#f0f921\"]]}],\"contourcarpet\":[{\"type\":\"contourcarpet\",\"colorbar\":{\"outlinewidth\":0,\"ticks\":\"\"}}],\"contour\":[{\"type\":\"contour\",\"colorbar\":{\"outlinewidth\":0,\"ticks\":\"\"},\"colorscale\":[[0.0,\"#0d0887\"],[0.1111111111111111,\"#46039f\"],[0.2222222222222222,\"#7201a8\"],[0.3333333333333333,\"#9c179e\"],[0.4444444444444444,\"#bd3786\"],[0.5555555555555556,\"#d8576b\"],[0.6666666666666666,\"#ed7953\"],[0.7777777777777778,\"#fb9f3a\"],[0.8888888888888888,\"#fdca26\"],[1.0,\"#f0f921\"]]}],\"surface\":[{\"type\":\"surface\",\"colorbar\":{\"outlinewidth\":0,\"ticks\":\"\"},\"colorscale\":[[0.0,\"#0d0887\"],[0.1111111111111111,\"#46039f\"],[0.2222222222222222,\"#7201a8\"],[0.3333333333333333,\"#9c179e\"],[0.4444444444444444,\"#bd3786\"],[0.5555555555555556,\"#d8576b\"],[0.6666666666666666,\"#ed7953\"],[0.7777777777777778,\"#fb9f3a\"],[0.8888888888888888,\"#fdca26\"],[1.0,\"#f0f921\"]]}],\"mesh3d\":[{\"type\":\"mesh3d\",\"colorbar\":{\"outlinewidth\":0,\"ticks\":\"\"}}],\"scatter\":[{\"fillpattern\":{\"fillmode\":\"overlay\",\"size\":10,\"solidity\":0.2},\"type\":\"scatter\"}],\"parcoords\":[{\"type\":\"parcoords\",\"line\":{\"colorbar\":{\"outlinewidth\":0,\"ticks\":\"\"}}}],\"scatterpolargl\":[{\"type\":\"scatterpolargl\",\"marker\":{\"colorbar\":{\"outlinewidth\":0,\"ticks\":\"\"}}}],\"bar\":[{\"error_x\":{\"color\":\"#2a3f5f\"},\"error_y\":{\"color\":\"#2a3f5f\"},\"marker\":{\"line\":{\"color\":\"#E5ECF6\",\"width\":0.5},\"pattern\":{\"fillmode\":\"overlay\",\"size\":10,\"solidity\":0.2}},\"type\":\"bar\"}],\"scattergeo\":[{\"type\":\"scattergeo\",\"marker\":{\"colorbar\":{\"outlinewidth\":0,\"ticks\":\"\"}}}],\"scatterpolar\":[{\"type\":\"scatterpolar\",\"marker\":{\"colorbar\":{\"outlinewidth\":0,\"ticks\":\"\"}}}],\"histogram\":[{\"marker\":{\"pattern\":{\"fillmode\":\"overlay\",\"size\":10,\"solidity\":0.2}},\"type\":\"histogram\"}],\"scattergl\":[{\"type\":\"scattergl\",\"marker\":{\"colorbar\":{\"outlinewidth\":0,\"ticks\":\"\"}}}],\"scatter3d\":[{\"type\":\"scatter3d\",\"line\":{\"colorbar\":{\"outlinewidth\":0,\"ticks\":\"\"}},\"marker\":{\"colorbar\":{\"outlinewidth\":0,\"ticks\":\"\"}}}],\"scattermapbox\":[{\"type\":\"scattermapbox\",\"marker\":{\"colorbar\":{\"outlinewidth\":0,\"ticks\":\"\"}}}],\"scatterternary\":[{\"type\":\"scatterternary\",\"marker\":{\"colorbar\":{\"outlinewidth\":0,\"ticks\":\"\"}}}],\"scattercarpet\":[{\"type\":\"scattercarpet\",\"marker\":{\"colorbar\":{\"outlinewidth\":0,\"ticks\":\"\"}}}],\"carpet\":[{\"aaxis\":{\"endlinecolor\":\"#2a3f5f\",\"gridcolor\":\"white\",\"linecolor\":\"white\",\"minorgridcolor\":\"white\",\"startlinecolor\":\"#2a3f5f\"},\"baxis\":{\"endlinecolor\":\"#2a3f5f\",\"gridcolor\":\"white\",\"linecolor\":\"white\",\"minorgridcolor\":\"white\",\"startlinecolor\":\"#2a3f5f\"},\"type\":\"carpet\"}],\"table\":[{\"cells\":{\"fill\":{\"color\":\"#EBF0F8\"},\"line\":{\"color\":\"white\"}},\"header\":{\"fill\":{\"color\":\"#C8D4E3\"},\"line\":{\"color\":\"white\"}},\"type\":\"table\"}],\"barpolar\":[{\"marker\":{\"line\":{\"color\":\"#E5ECF6\",\"width\":0.5},\"pattern\":{\"fillmode\":\"overlay\",\"size\":10,\"solidity\":0.2}},\"type\":\"barpolar\"}],\"pie\":[{\"automargin\":true,\"type\":\"pie\"}]},\"layout\":{\"autotypenumbers\":\"strict\",\"colorway\":[\"#636efa\",\"#EF553B\",\"#00cc96\",\"#ab63fa\",\"#FFA15A\",\"#19d3f3\",\"#FF6692\",\"#B6E880\",\"#FF97FF\",\"#FECB52\"],\"font\":{\"color\":\"#2a3f5f\"},\"hovermode\":\"closest\",\"hoverlabel\":{\"align\":\"left\"},\"paper_bgcolor\":\"white\",\"plot_bgcolor\":\"#E5ECF6\",\"polar\":{\"bgcolor\":\"#E5ECF6\",\"angularaxis\":{\"gridcolor\":\"white\",\"linecolor\":\"white\",\"ticks\":\"\"},\"radialaxis\":{\"gridcolor\":\"white\",\"linecolor\":\"white\",\"ticks\":\"\"}},\"ternary\":{\"bgcolor\":\"#E5ECF6\",\"aaxis\":{\"gridcolor\":\"white\",\"linecolor\":\"white\",\"ticks\":\"\"},\"baxis\":{\"gridcolor\":\"white\",\"linecolor\":\"white\",\"ticks\":\"\"},\"caxis\":{\"gridcolor\":\"white\",\"linecolor\":\"white\",\"ticks\":\"\"}},\"coloraxis\":{\"colorbar\":{\"outlinewidth\":0,\"ticks\":\"\"}},\"colorscale\":{\"sequential\":[[0.0,\"#0d0887\"],[0.1111111111111111,\"#46039f\"],[0.2222222222222222,\"#7201a8\"],[0.3333333333333333,\"#9c179e\"],[0.4444444444444444,\"#bd3786\"],[0.5555555555555556,\"#d8576b\"],[0.6666666666666666,\"#ed7953\"],[0.7777777777777778,\"#fb9f3a\"],[0.8888888888888888,\"#fdca26\"],[1.0,\"#f0f921\"]],\"sequentialminus\":[[0.0,\"#0d0887\"],[0.1111111111111111,\"#46039f\"],[0.2222222222222222,\"#7201a8\"],[0.3333333333333333,\"#9c179e\"],[0.4444444444444444,\"#bd3786\"],[0.5555555555555556,\"#d8576b\"],[0.6666666666666666,\"#ed7953\"],[0.7777777777777778,\"#fb9f3a\"],[0.8888888888888888,\"#fdca26\"],[1.0,\"#f0f921\"]],\"diverging\":[[0,\"#8e0152\"],[0.1,\"#c51b7d\"],[0.2,\"#de77ae\"],[0.3,\"#f1b6da\"],[0.4,\"#fde0ef\"],[0.5,\"#f7f7f7\"],[0.6,\"#e6f5d0\"],[0.7,\"#b8e186\"],[0.8,\"#7fbc41\"],[0.9,\"#4d9221\"],[1,\"#276419\"]]},\"xaxis\":{\"gridcolor\":\"white\",\"linecolor\":\"white\",\"ticks\":\"\",\"title\":{\"standoff\":15},\"zerolinecolor\":\"white\",\"automargin\":true,\"zerolinewidth\":2},\"yaxis\":{\"gridcolor\":\"white\",\"linecolor\":\"white\",\"ticks\":\"\",\"title\":{\"standoff\":15},\"zerolinecolor\":\"white\",\"automargin\":true,\"zerolinewidth\":2},\"scene\":{\"xaxis\":{\"backgroundcolor\":\"#E5ECF6\",\"gridcolor\":\"white\",\"linecolor\":\"white\",\"showbackground\":true,\"ticks\":\"\",\"zerolinecolor\":\"white\",\"gridwidth\":2},\"yaxis\":{\"backgroundcolor\":\"#E5ECF6\",\"gridcolor\":\"white\",\"linecolor\":\"white\",\"showbackground\":true,\"ticks\":\"\",\"zerolinecolor\":\"white\",\"gridwidth\":2},\"zaxis\":{\"backgroundcolor\":\"#E5ECF6\",\"gridcolor\":\"white\",\"linecolor\":\"white\",\"showbackground\":true,\"ticks\":\"\",\"zerolinecolor\":\"white\",\"gridwidth\":2}},\"shapedefaults\":{\"line\":{\"color\":\"#2a3f5f\"}},\"annotationdefaults\":{\"arrowcolor\":\"#2a3f5f\",\"arrowhead\":0,\"arrowwidth\":1},\"geo\":{\"bgcolor\":\"white\",\"landcolor\":\"#E5ECF6\",\"subunitcolor\":\"white\",\"showland\":true,\"showlakes\":true,\"lakecolor\":\"white\"},\"title\":{\"x\":0.05},\"mapbox\":{\"style\":\"light\"}}},\"xaxis\":{\"anchor\":\"y\",\"domain\":[0.0,1.0],\"title\":{\"text\":\"math score\"}},\"yaxis\":{\"anchor\":\"x\",\"domain\":[0.0,1.0],\"title\":{\"text\":\"reading score\"}},\"legend\":{\"title\":{\"text\":\"gender\"},\"tracegroupgap\":0},\"margin\":{\"t\":60}},                        {\"responsive\": true}                    ).then(function(){\n",
       "                            \n",
       "var gd = document.getElementById('b254e2fa-759d-4c3b-b147-9722cad21d06');\n",
       "var x = new MutationObserver(function (mutations, observer) {{\n",
       "        var display = window.getComputedStyle(gd).display;\n",
       "        if (!display || display === 'none') {{\n",
       "            console.log([gd, 'removed!']);\n",
       "            Plotly.purge(gd);\n",
       "            observer.disconnect();\n",
       "        }}\n",
       "}});\n",
       "\n",
       "// Listen for the removal of the full notebook cells\n",
       "var notebookContainer = gd.closest('#notebook-container');\n",
       "if (notebookContainer) {{\n",
       "    x.observe(notebookContainer, {childList: true});\n",
       "}}\n",
       "\n",
       "// Listen for the clearing of the current output cell\n",
       "var outputEl = gd.closest('.output');\n",
       "if (outputEl) {{\n",
       "    x.observe(outputEl, {childList: true});\n",
       "}}\n",
       "\n",
       "                        })                };                });            </script>        </div>"
      ]
     },
     "metadata": {},
     "output_type": "display_data"
    }
   ],
   "source": [
    "# Done By Twapandula Amushe\n",
    "# Interactive visualization (example with Plotly)\n",
    "fig = px.scatter(GroupProject, x='math score', y='reading score', color='gender',\n",
    "                 hover_data=['writing score', 'race/ethnicity'])\n",
    "fig.show()"
   ]
  },
  {
   "cell_type": "code",
   "execution_count": 35,
   "id": "07aea910-7f16-44c8-9d48-01a7287a04c6",
   "metadata": {},
   "outputs": [
    {
     "data": {
      "image/png": "[encoded data removed]",
      "text/plain": [
       "<Figure size 1000x600 with 1 Axes>"
      ]
     },
     "metadata": {},
     "output_type": "display_data"
    }
   ],
   "source": [
    "# Done By Peneyambeko Mwaamange\n",
    "# Create a figure for the distribution plot\n",
    "plt.figure(figsize=(10, 6))\n",
    "\n",
    "# Plot the distribution of Math scores\n",
    "sns.histplot(GroupProject['math score'], kde=True, color='blue', bins=30)\n",
    "\n",
    "# Add title and labels\n",
    "plt.title('Math Score Distribution (Normal Distribution)', fontsize=16)\n",
    "plt.xlabel('Math Score', fontsize=12)\n",
    "plt.ylabel('Frequency', fontsize=12)\n",
    "\n",
    "# Show the plot\n",
    "plt.show()"
   ]
  },
  {
   "cell_type": "code",
   "execution_count": 33,
   "id": "a4460f50-2916-4baf-b3a1-d26077c5c28d",
   "metadata": {},
   "outputs": [
    {
     "data": {
      "image/png": "[encoded data removed]",
      "text/plain": [
       "<Figure size 1000x600 with 1 Axes>"
      ]
     },
     "metadata": {},
     "output_type": "display_data"
    }
   ],
   "source": [
    "# Done By Megan Hoaes\n",
    "# Create a figure for the writing score distribution plot\n",
    "plt.figure(figsize=(10, 6))\n",
    "\n",
    "# Plot the distribution of Writing scores\n",
    "sns.histplot(GroupProject['writing score'], kde=True, color='orange', bins=30)\n",
    "\n",
    "# Add title and labels\n",
    "plt.title('Writing Score Distribution (Normal Distribution)', fontsize=16)\n",
    "plt.xlabel('Writing Score', fontsize=12)\n",
    "plt.ylabel('Density', fontsize=12)\n",
    "\n",
    "# Show the plot\n",
    "plt.show()"
   ]
  },
  {
   "cell_type": "code",
   "execution_count": 31,
   "id": "b586f0ad-c99b-44e3-aa6b-649c501880b2",
   "metadata": {},
   "outputs": [
    {
     "data": {
      "image/png": "[encoded data removed]",
      "text/plain": [
       "<Figure size 1000x600 with 1 Axes>"
      ]
     },
     "metadata": {},
     "output_type": "display_data"
    }
   ],
   "source": [
    "# Done By Mauritius Hamutenya\n",
    "# Create a figure for the reading score distribution plot\n",
    "plt.figure(figsize=(10, 6))\n",
    "\n",
    "# Plot the distribution of Reading scores\n",
    "sns.histplot(GroupProject['reading score'], kde=True, color='green', bins=30, stat='density', alpha=0.5)\n",
    "\n",
    "# Add title and labels\n",
    "plt.title('Reading Score Distribution (Normal Distribution)', fontsize=16)\n",
    "plt.xlabel('Reading Score', fontsize=12)\n",
    "plt.ylabel('Density', fontsize=12)\n",
    "\n",
    "# Show the plot\n",
    "plt.show()"
   ]
  },
  {
   "cell_type": "code",
   "execution_count": 58,
   "id": "ceeb6f4d-c6de-41d8-bbfa-d8cf4951925e",
   "metadata": {},
   "outputs": [
    {
     "name": "stdout",
     "output_type": "stream",
     "text": [
      "Shape of X_train: (800, 3)\n",
      "Shape of X_test: (200, 3)\n"
     ]
    }
   ],
   "source": [
    "# Done By Ihemba Hamutenya\n",
    "# Prepare data for machine learning\n",
    "X = GroupProject[['math score', 'reading score', 'writing score']]\n",
    "y = GroupProject['gender']  # Assuming we're predicting gender based on scores\n",
    "\n",
    "# Split the data into training and testing sets\n",
    "X_train, X_test, y_train, y_test = train_test_split(X, y, test_size=0.2, random_state=42)\n",
    "\n",
    "# Print shapes to verify the split\n",
    "print(\"Shape of X_train:\", X_train.shape)\n",
    "print(\"Shape of X_test:\", X_test.shape)"
   ]
  },
  {
   "cell_type": "code",
   "execution_count": 56,
   "id": "1eeeeba6-71ef-493f-a0db-1fe63ac30215",
   "metadata": {},
   "outputs": [
    {
     "name": "stdout",
     "output_type": "stream",
     "text": [
      "\n",
      "First few rows of X_train_scaled:\n",
      "   math score  reading score  writing score\n",
      "0   -0.299452       0.030791       0.434053\n",
      "1   -0.033050       0.930290       0.964701\n",
      "2    0.832756       1.345443       1.163694\n",
      "3   -0.366053      -0.176786      -0.162925\n",
      "4    0.433153      -0.384363      -0.759904\n"
     ]
    }
   ],
   "source": [
    "# Done By Viano Tuhafeni\n",
    "# Scale the features\n",
    "scaler = StandardScaler()\n",
    "X_train_scaled = scaler.fit_transform(X_train)\n",
    "X_test_scaled = scaler.transform(X_test)\n",
    "\n",
    "# Print the first few rows of scaled data\n",
    "print(\"\\nFirst few rows of X_train_scaled:\")\n",
    "print(pd.DataFrame(X_train_scaled, columns=X.columns).head())"
   ]
  },
  {
   "cell_type": "code",
   "execution_count": 54,
   "id": "19e5f86f-a160-47f7-905a-2c883f156f13",
   "metadata": {},
   "outputs": [
    {
     "name": "stdout",
     "output_type": "stream",
     "text": [
      "Models dictionary created successfully!\n"
     ]
    }
   ],
   "source": [
    "# Done By Oberty Ekayo\n",
    "# Train and evaluate multiple models\n",
    "models = {\n",
    "    'Logistic Regression': LogisticRegression(),\n",
    "    'Decision Tree': DecisionTreeClassifier(),\n",
    "    'Random Forest': RandomForestClassifier()\n",
    "}\n",
    "\n",
    "print(\"Models dictionary created successfully!\")"
   ]
  },
  {
   "cell_type": "code",
   "execution_count": 16,
   "id": "b470a9bd-5786-481e-b17c-06d55ae4809b",
   "metadata": {},
   "outputs": [],
   "source": [
    "# If X_train is a DataFrame, convert it to a NumPy array\n",
    "X_train = X_train.values\n",
    "X_test = X_test.values"
   ]
  },
  {
   "cell_type": "code",
   "execution_count": 78,
   "id": "69f70b5f-17b6-481e-acc9-31396b835054",
   "metadata": {},
   "outputs": [
    {
     "name": "stdout",
     "output_type": "stream",
     "text": [
      "Logistic Regression Model Accuracy: 0.90\n",
      "              precision    recall  f1-score   support\n",
      "\n",
      "      female       0.87      0.93      0.90        97\n",
      "        male       0.93      0.86      0.89       103\n",
      "\n",
      "    accuracy                           0.90       200\n",
      "   macro avg       0.90      0.90      0.89       200\n",
      "weighted avg       0.90      0.90      0.89       200\n",
      "\n",
      "Decision Tree Model Accuracy: 0.81\n",
      "              precision    recall  f1-score   support\n",
      "\n",
      "      female       0.78      0.82      0.80        97\n",
      "        male       0.83      0.79      0.81       103\n",
      "\n",
      "    accuracy                           0.81       200\n",
      "   macro avg       0.81      0.81      0.80       200\n",
      "weighted avg       0.81      0.81      0.81       200\n",
      "\n",
      "Random Forest Model Accuracy: 0.86\n",
      "              precision    recall  f1-score   support\n",
      "\n",
      "      female       0.84      0.89      0.86        97\n",
      "        male       0.89      0.84      0.87       103\n",
      "\n",
      "    accuracy                           0.86       200\n",
      "   macro avg       0.87      0.87      0.86       200\n",
      "weighted avg       0.87      0.86      0.87       200\n",
      "\n"
     ]
    }
   ],
   "source": [
    "# Done By Vianca Ipinge\n",
    "# Done By Prince Kenneth\n",
    "# Done By Helena Megameno\n",
    "# Loop through the models and train them\n",
    "for name, model in models.items():\n",
    "    # Train the model\n",
    "    model.fit(X_train_scaled, y_train)\n",
    "    \n",
    "    # Make predictions\n",
    "    y_pred = model.predict(X_test_scaled)\n",
    "    \n",
    "    # Evaluate the model\n",
    "    accuracy = accuracy_score(y_test, y_pred)\n",
    "    print(f\"{name} Model Accuracy: {accuracy:.2f}\")\n",
    "    print(classification_report(y_test, y_pred))\n"
   ]
  },
  {
   "cell_type": "code",
   "execution_count": null,
   "id": "824dfc9a-9c20-4998-8c96-adaa1ca1fdd3",
   "metadata": {},
   "outputs": [],
   "source": []
  }
 ],
 "metadata": {
  "kernelspec": {
   "display_name": "Python 3 (ipykernel)",
   "language": "python",
   "name": "python3"
  },
  "language_info": {
   "codemirror_mode": {
    "name": "ipython",
    "version": 3
   },
   "file_extension": ".py",
   "mimetype": "text/x-python",
   "name": "python",
   "nbconvert_exporter": "python",
   "pygments_lexer": "ipython3",
   "version": "3.12.4"
  }
 },
 "nbformat": 4,
 "nbformat_minor": 5
}
